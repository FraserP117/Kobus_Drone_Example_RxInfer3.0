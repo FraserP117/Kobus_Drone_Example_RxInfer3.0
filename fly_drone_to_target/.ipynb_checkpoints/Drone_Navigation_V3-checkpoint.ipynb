{
 "cells": [
  {
   "cell_type": "markdown",
   "id": "7a753e82",
   "metadata": {},
   "source": [
    "# Kobus Esterhuysen Portfolio [Example](https://learnableloop.com/posts/FlyToTarget_PORT.html, \"Kobus's Website\")\n",
    "## Fly a Drone to Target with RxInfer "
   ]
  },
  {
   "cell_type": "code",
   "execution_count": 26,
   "id": "d6c72db5",
   "metadata": {},
   "outputs": [
    {
     "name": "stderr",
     "output_type": "stream",
     "text": [
      "\u001b[32m\u001b[1m  Activating\u001b[22m\u001b[39m new project at `~/Desktop/Active_Inference_Institute/RxInfer_Group/RxInfer_Kobus_Examples`\n",
      "\u001b[32m\u001b[1m  No Changes\u001b[22m\u001b[39m to `~/Desktop/Active_Inference_Institute/RxInfer_Group/RxInfer_Kobus_Examples/Project.toml`\n",
      "\u001b[32m\u001b[1m  No Changes\u001b[22m\u001b[39m to `~/Desktop/Active_Inference_Institute/RxInfer_Group/RxInfer_Kobus_Examples/Manifest.toml`\n"
     ]
    }
   ],
   "source": [
    "import Pkg; Pkg.activate(\"..\"); Pkg.instantiate();"
   ]
  },
  {
   "cell_type": "code",
   "execution_count": 27,
   "id": "bec309d3",
   "metadata": {},
   "outputs": [
    {
     "name": "stderr",
     "output_type": "stream",
     "text": [
      "\u001b[33m\u001b[1m┌ \u001b[22m\u001b[39m\u001b[33m\u001b[1mWarning: \u001b[22m\u001b[39mPkg.installed() is deprecated\n",
      "\u001b[33m\u001b[1m└ \u001b[22m\u001b[39m\u001b[90m@ Pkg ~/.julia/juliaup/julia-1.10.2+0.x64.linux.gnu/share/julia/stdlib/v1.10/Pkg/src/Pkg.jl:744\u001b[39m\n"
     ]
    },
    {
     "ename": "LoadError",
     "evalue": "KeyError: key \"RxInfer\" not found",
     "output_type": "error",
     "traceback": [
      "KeyError: key \"RxInfer\" not found",
      "",
      "Stacktrace:",
      " [1] getindex(h::Dict{String, VersionNumber}, key::String)",
      "   @ Base ./dict.jl:498",
      " [2] top-level scope",
      "   @ In[27]:10"
     ]
    }
   ],
   "source": [
    "using RxInfer\n",
    "using Pkg\n",
    "\n",
    "# Pkg.add(\"Animations\")\n",
    "# Pkg.add(\"Plots\")\n",
    "\n",
    "using Plots\n",
    "using Animations\n",
    "\n",
    "println(\"RxInfer version: \", Pkg.installed()[\"RxInfer\"])"
   ]
  },
  {
   "cell_type": "markdown",
   "id": "69c82e89",
   "metadata": {},
   "source": [
    "### Overview\n",
    "This project implements a drone that autonomously navigates from a starting position to a target position, on a 2D grid. \n",
    "\n",
    "\n",
    "\n",
    "### Modeling Questions and Considerations:\n",
    "\n",
    "1. What are the metrics that we will track?\n",
    "    1. The $x$ and $y$ components of the drone's position.\n",
    "    2. The $x$ and $y$ components of te drone's velocity.\n",
    "2. What decisions do we intend to make?\n",
    "    1. We will attempt to infer the optimal actions to take at each point in time.\n",
    "3. What are the sources of uncertainty?\n",
    "    1. System/Process noise. This is the noise associated with the transition dynamics between states of the environment. \n",
    "    2. Measurement noise. This is the noise associated with the observation; made by the agent, of the environment's state. "
   ]
  },
  {
   "cell_type": "markdown",
   "id": "3cfacf97",
   "metadata": {},
   "source": [
    "### The Environment/Generative Process:\n",
    "We will consider the system of interest to be the drone itself. Hence the generetive process will describe the drone. We will consider the state of the drone to be uniquely determined by a 4-dimensional state-vector \n",
    "$$z_t = [x_t, y_t, v_{at}, v_{rt}]$$ of the:\n",
    "1. Horizontal position at time $t$: $x_t$.\n",
    "2. Vertical position at time $t$: $y_t$.\n",
    "3. Angle of the velocity at time $t$: $v_{at}$ (in radians). \n",
    "4. Magnitude of the velocity at time $t$: $v_{rt}$.\n",
    "\n",
    "The action affordances will consist of turning or \"yaw\" control. \n",
    "\n",
    "We will define the initial state of the drone to be:"
   ]
  },
  {
   "cell_type": "code",
   "execution_count": 28,
   "id": "a5cace04",
   "metadata": {},
   "outputs": [
    {
     "data": {
      "text/plain": [
       "4-element Vector{Float64}:\n",
       " -0.0\n",
       "  0.0\n",
       " -0.1\n",
       "  3.0"
      ]
     },
     "execution_count": 28,
     "metadata": {},
     "output_type": "execute_result"
    }
   ],
   "source": [
    "_z₀ = [-0.0, 0.0, -0.1, 3.0] ## initial state vector"
   ]
  },
  {
   "cell_type": "markdown",
   "id": "e79f757d",
   "metadata": {},
   "source": [
    "We'll also define the following function to compute the updates to the $x$ and $y$ components of the drone's position, due to its velocity."
   ]
  },
  {
   "cell_type": "code",
   "execution_count": 29,
   "id": "d5053e10",
   "metadata": {},
   "outputs": [
    {
     "data": {
      "text/plain": [
       "4-element Vector{Float64}:\n",
       "  2.9850124958340776\n",
       " -0.29950024994048446\n",
       "  0.0\n",
       "  0.0"
      ]
     },
     "execution_count": 29,
     "metadata": {},
     "output_type": "execute_result"
    }
   ],
   "source": [
    "\"\"\"\n",
    "    Aᵃ(z, δt)\n",
    "\n",
    "Compute the updates in the x and y components due to the drone's velocity.\n",
    "\n",
    "Parameters:\n",
    "    - z: Input state vector [x, y, v_{at}, v_{rt}]\n",
    "    - δt: Time increment\n",
    "\"\"\"\n",
    "function Aᵃ(z, δt)\n",
    "    a = zeros(4)\n",
    "    a[1] = z[4]*cos(z[3])*δt\n",
    "    a[2] = z[4]*sin(z[3])*δt\n",
    "    return a\n",
    "end\n",
    "\n",
    "Aᵃ(_z₀, 1) ## x & y components of velocity"
   ]
  },
  {
   "cell_type": "markdown",
   "id": "10d36045",
   "metadata": {},
   "source": [
    "### Decision Variables\n",
    "The agent's decisions will consist in setting the angle of the velocity vector and hence the drone's yaw. We will consider the agent's action space as residing within the open interval: $$a_t \\in \\mathbb{A} = (-F_{limit}, F_{limit})$$ Where $F_{limit} = 0.1$ is the drone's maximum force output from its engines and $a_t$ is the agent's action at time $t$.\n",
    "\n",
    "$$R(a_t) = F_{limit} \\cdot \\tanh(a_t)$$"
   ]
  },
  {
   "cell_type": "code",
   "execution_count": 30,
   "id": "89d18079",
   "metadata": {},
   "outputs": [
    {
     "data": {
      "text/plain": [
       "4-element Vector{Float64}:\n",
       " 0.0\n",
       " 0.0\n",
       " 0.024491866240370915\n",
       " 0.0"
      ]
     },
     "execution_count": 30,
     "metadata": {},
     "output_type": "execute_result"
    }
   ],
   "source": [
    "_F_lim = 0.1\n",
    "\n",
    "function Rᵃ(a::Real) ## turn/yaw rate\n",
    "    b = [ 0.0, 0.0, 1.0, 0.0 ]\n",
    "    return b*_F_lim*tanh(a)\n",
    "end\n",
    "\n",
    "Rᵃ(0.25)"
   ]
  },
  {
   "cell_type": "markdown",
   "id": "98a0a51c",
   "metadata": {},
   "source": [
    "### Transition and Observation Variables\n",
    "\n",
    "The \"transition function\" captures the dynamics of the environment/ generatove process. Let this be given as: $$z_t = g(z_{t - 1}, a_t)$$ and suppose that the evolution of the state $z_t = [x_t, y_t, v_{at}, v_{rt}]$ from $g$ is given by:\n",
    "\n",
    "\\begin{align}\n",
    "    x_t &= x_{t-1} + v_{r, {t-1}} \\cdot \\cos(v_{a, {t - 1}}) \\cdot \\delta t\\\\\n",
    "    y_t &= y_{t-1} + v_{r, {t-1}} \\cdot \\sin(v_{a, {t - 1}}) \\cdot \\delta t\\\\\n",
    "    v_{at} &= v_{a, {t - 1}} + R(a_{t - 1})\n",
    "\\end{align}\n",
    "\n",
    "The environment affords noisy observations of the current state with an associated variance:\n",
    "\n",
    "\\begin{align}\n",
    "    \\Theta &= \\vartheta \\cdot \\mathbf{I}\\\\\n",
    "           &= \\begin{bmatrix}\n",
    "            \\vartheta & 0 & 0 & 0 \\\\\n",
    "            0 & \\vartheta & 0 & 0 \\\\\n",
    "            0 & 0 & \\vartheta & 0 \\\\\n",
    "            0 & 0 & 0 & \\vartheta \\\\\n",
    "            \\end{bmatrix}\\\\\n",
    "           &= \\begin{bmatrix}\n",
    "            10^{-4} & 0 & 0 & 0 \\\\\n",
    "            0 & 10^{-4} & 0 & 0 \\\\\n",
    "            0 & 0 & 10^{-4} & 0 \\\\\n",
    "            0 & 0 & 0 & 10^{-4} \\\\\n",
    "            \\end{bmatrix}\n",
    "\\end{align}\n",
    "\n",
    "The observation function can then be expresed as: $$y_t \\sim \\mathcal{N}(z_t, \\Theta)$$"
   ]
  },
  {
   "cell_type": "code",
   "execution_count": 31,
   "id": "39ee22be",
   "metadata": {},
   "outputs": [
    {
     "data": {
      "text/plain": [
       "0.0001"
      ]
     },
     "execution_count": 31,
     "metadata": {},
     "output_type": "execute_result"
    }
   ],
   "source": [
    "_γ = 1e4 ## transition precision (system noise)\n",
    "_ϑ = 1e-4 ## observation variance (observation noise)"
   ]
  },
  {
   "cell_type": "markdown",
   "id": "8927be01",
   "metadata": {},
   "source": [
    "### Objective Function\n",
    "\n",
    "The Objective Function is the Bethe Free Energy. The minimisation of the Bethe Free Energy is handled by RxInfer. "
   ]
  },
  {
   "cell_type": "markdown",
   "id": "5b69658a",
   "metadata": {},
   "source": [
    "### Implementation of The Environment/Generative Process\n",
    "\n",
    "The agent and the environment are regarded as conditionally indipendent of one another when the conditioning is taken with respect to the Markov Blanket of the sensor-motor loop. \n",
    "\n",
    "This is to say that the Agent and the Environment can only interact through the Markov blanket. States of the agent are unknown to the world and so we wrap the Agent's internal states in a comprehension that only returns functions for interacting with the agent. Internal beliefs cannot be directly observed, and interaction is only allowed through the Markov blanket of the agent (i.e. the sensors and actuators)."
   ]
  },
  {
   "cell_type": "code",
   "execution_count": 32,
   "id": "099f3fc1",
   "metadata": {},
   "outputs": [
    {
     "data": {
      "text/plain": [
       "create_envir (generic function with 1 method)"
      ]
     },
     "execution_count": 32,
     "metadata": {},
     "output_type": "execute_result"
    }
   ],
   "source": [
    "function create_envir(; Rᵃ, z₀=[0.5, 0.5, 0.1, 3.0])\n",
    "    zₜ₋₁ = z₀\n",
    "    zₜ = zₜ₋₁\n",
    "    yₜ = zₜ\n",
    "    \n",
    "    execute = (aₜ::Float64) -> begin ## aₜ is turn/yaw action\n",
    "        zₜ = zₜ₋₁ + Aᵃ(zₜ₋₁, 1) + Rᵃ(aₜ) ##Compute next state\n",
    "        yₜ = zₜ\n",
    "        zₜ₋₁ = zₜ ##Reset state\n",
    "    end\n",
    "\n",
    "    observe = () -> begin\n",
    "        return yₜ\n",
    "    end\n",
    "    \n",
    "    return (execute, observe)\n",
    "end"
   ]
  },
  {
   "cell_type": "markdown",
   "id": "a7d11a66",
   "metadata": {},
   "source": [
    "### The Agent/Generative Model\n",
    "\n",
    "#### State Variables\n",
    "From the agent's perspective, the state variables will be $s_t$ rather than $z_t$ which is given by: \n",
    "\n",
    "\\begin{align}\n",
    "    s_t = [x_t, y_t, v_{at}, v_{rt}]\n",
    "\\end{align}\n",
    "\n",
    "#### Decision Variables\n",
    "According to the agent the action on the environment at time will be represented by $u_t$, also known as the control state of the agent."
   ]
  },
  {
   "cell_type": "markdown",
   "id": "620a7442",
   "metadata": {},
   "source": [
    "### Implimenting The Agent/Generative Model\n",
    "\n",
    "We begin by specifying a probabalistic model for the agent which describes the agent's internal beliefs over the external environmental dynamics. We'll define the generative model as follows:\n",
    "\n",
    "\\begin{align}\n",
    "    p(x_t, s_t, u_t) \\propto \\underbrace{p(s_{t - 1})}_{\\text{State Prior}} \\cdot \n",
    "    \\prod_{k = t}^{t + T} \\underbrace{p(x_k | s_k)}_{\\text{Observation Model}} \\cdot \n",
    "    \\underbrace{p(s_k | s_{k - 1}, u_k)}_{\\text{State-Transition Model}} \\cdot \n",
    "    \\underbrace{p(u_k)}_{\\text{Control}} \\cdot \n",
    "    \\underbrace{p'(x_k)}_{\\text{Target}}\n",
    "\\end{align}\n",
    "\n",
    "We will define the above factors as follows:\n",
    "\n",
    "#### Observation Model:\n",
    "\n",
    "\\begin{align}\n",
    "    p(x_k | s_k) = \\mathcal{N}(x_k | s_k, \\Theta)\n",
    "\\end{align}\n",
    "\n",
    "where $x_k = (\\chi_{1k}, \\chi_{2k}, ...)$ denotes the agent's observations after interacting with the environment. \n",
    "\n",
    "#### State-Transition Model:\n",
    "\n",
    "\\begin{align}\n",
    "    p(s_k | s_{k - 1}, u_k) &= \\mathcal{N}(s_k | s_{k - 1} + u_k, \\vartheta)\\\\\n",
    "    p(s_{t - 1}) &= \\mathcal{N}(s_{t - 1} | m_{t - 1}, V_{t - 1})\n",
    "\\end{align}\n",
    "\n",
    "Hence, the current state is a simple linear combination of the previous state and action. Notice that we have endowed the agent with an accurate model of the environmental dynamics. We need not have done this.\n",
    "\n",
    "#### Control Prior:\n",
    "\n",
    "\\begin{align}\n",
    "    p(u_t) &= \\prod_{k = t}^{t + T} \\mathcal{N}(u_k \\ | \\ 0 \\ , \\ \\Xi)\\\\\n",
    "           &= \\prod_{k = t}^{t + T} \\mathcal{N}(u_k \\ | \\ 0 \\ , \\ \\xi \\cdot \\mathbf{I})\\\\\n",
    "           &= \\prod_{k = t}^{t + T} \\mathcal{N}(u_k \\ | \\ 0 \\ , \\ 1.0)\\\\\n",
    "           &= \\prod_{k = t}^{t + T} \\mathcal{N}(u_k \\ | \\ m_u \\ , \\ V_u)\n",
    "\\end{align}\n",
    "\n",
    "This represents the control priors. <span style=\"color:red\">There's more than one control prior? Additionally, I'm not sure how the third line follows from the second line. Is this because non-diagonal covariances are all 0 and so the product decomposes into a product of univariate Gaussians?</span>\n",
    "\n",
    "m_u and V_u are the mean and variance for the control prior.\n",
    "\n",
    "#### Target Prior:\n",
    "\n",
    "\\begin{align}\n",
    "    p'(x_t) &= \\prod_{k = t}^{t + (T - 1)} \\mathcal{N}(x_k \\ | \\ 0 \\ , \\ \\sigma^{\\text{huge}}) \\cdot \n",
    "                \\mathcal{N}(x_T \\ | \\ x_+ \\ , \\ \\Sigma)\\\\\n",
    "           &= \\prod_{k = t}^{t + (T - 1)} \\mathcal{N}(x_k \\ | \\ 0 \\ , \\ \\sigma^{\\text{huge}}) \\cdot \n",
    "                \\mathcal{N}(x_T \\ | \\ x_+ \\ , \\ \\sigma \\cdot \\mathbf{I})\\\\\n",
    "           &= \\prod_{k = t}^{t + (T - 1)} \\mathcal{N}(x_k \\ | \\ 0 \\ , \\ 10^{12}) \\cdot \n",
    "                \\mathcal{N}(x_T \\ | \\ [0.0, 0.0, 0.0 * \\pi, 0.1] \\ , \\ 10^{-4} \\cdot \\mathbf{I})\\\\\n",
    "           &= \\prod_{k = t}^{t + (T - 1)} \\mathcal{N}(u_k \\ | \\ m_x \\ , \\ V_x)\n",
    "\\end{align}\n",
    "\n",
    "This represents the target/goal priors. Indeed, this encodes a belief about the preferred observation/target observation: $x_+ = [0.0, 0.0, 0.0 * \\pi, 0.1]$.\n",
    "\n",
    "We'll set the initial state prior as:\n",
    "\n",
    "\\begin{equation}\n",
    "    p(s_0) = \\mathcal{N}(s_0 \\ | \\ 0 , 10^{12})\n",
    "\\end{equation}\n",
    "\n",
    "Which constitutes a vague prior over the initial state $s_0$."
   ]
  },
  {
   "cell_type": "markdown",
   "id": "e604be61",
   "metadata": {},
   "source": [
    "### The Generative Model in Code:\n",
    "\n",
    "We now move to implementing the above generative model in julia code with the RxInfer.jl package. The code in the next block defines the agent’s internal beliefs over the external dynamics and its probabilistic model of the environment, which correspond accurately to the generative process by directly using the functions defined above.\n",
    "\n",
    "We use the @model macro from RxInfer to define the probabilistic model and the meta block to define approximation methods for the nonlinear state-transition functions.\n",
    "\n",
    "When specifying the model, in addition to the current state of the agent, we include the beliefs over its future states (up to $T$ steps ahead):"
   ]
  },
  {
   "cell_type": "code",
   "execution_count": 33,
   "id": "b1536310",
   "metadata": {},
   "outputs": [],
   "source": [
    "@model function dronenav_model(T, Rᵃ, mₛ₍ₜ₋₁₎, Vₛ₍ₜ₋₁₎, mᵤ, Vᵤ, mₓ, Vₓ) # added means and variances and removed semi-colon since kwargs no longer supported\n",
    "    ## Transition function\n",
    "    g = (sₜ₋₁::AbstractVector) -> begin\n",
    "        sₜ = similar(sₜ₋₁) ## Next state\n",
    "        sₜ = Aᵃ(sₜ₋₁, 1.0) + sₜ₋₁\n",
    "        return sₜ\n",
    "    end\n",
    "    \n",
    "    ## Function for modeling turn/yaw control\n",
    "    h = (u::AbstractVector) -> Rᵃ(u[1])\n",
    "    \n",
    "    ## DO WE REQUIRE H INVERSE TOO?? ##\n",
    "    \n",
    "    Γ = _γ*diageye(4) ## Transition precision\n",
    "    𝚯 = _ϑ*diageye(4) ## Observation variance\n",
    "\n",
    "    sₜ₋₁ ~ MvNormal(mean=mₛ₍ₜ₋₁₎, cov=Vₛ₍ₜ₋₁₎)\n",
    "    sₖ₋₁ = sₜ₋₁\n",
    "    \n",
    "    ## CALL LOCAL S?? ## \n",
    "\n",
    "    for k in 1:T\n",
    "        ## Control\n",
    "        u[k] ~ MvNormal(mean=mᵤ[k], cov=Vᵤ[k])\n",
    "        hIuI[k] ~ h(u[k]) where { meta=DeltaMeta(method=Unscented()) } # perhaps do linearization instead, only use h_inv when using linearization??\n",
    "\n",
    "        ## State transition\n",
    "        gIsI[k] ~ g(sₖ₋₁) where { meta=DeltaMeta(method=Unscented()) } # same as for hIuI[k]\n",
    "        ghSum[k] ~ gIsI[k] + hIuI[k] \n",
    "        s[k] ~ MvNormal(mean=ghSum[k], precision=Γ)\n",
    "\n",
    "        ## Likelihood of future observations\n",
    "        x[k] ~ MvNormal(mean=s[k], cov=𝚯)\n",
    "\n",
    "        ## Target/Goal prior\n",
    "        x[k] ~ MvNormal(mean=mₓ[k], cov=Vₓ[k])\n",
    "\n",
    "        sₖ₋₁ = s[k]\n",
    "    end\n",
    "    \n",
    "    return (s, )\n",
    "end"
   ]
  },
  {
   "cell_type": "markdown",
   "id": "3cdbd003",
   "metadata": {},
   "source": [
    "We'll now define the agent itself"
   ]
  },
  {
   "cell_type": "code",
   "execution_count": 38,
   "id": "0e0c4127",
   "metadata": {},
   "outputs": [
    {
     "data": {
      "text/plain": [
       "create_agent (generic function with 1 method)"
      ]
     },
     "execution_count": 38,
     "metadata": {},
     "output_type": "execute_result"
    }
   ],
   "source": [
    "function create_agent(; T=20, Rᵃ, x₊, s₀, ξ=0.1, σ=1e-4)\n",
    "    ## Set control priors\n",
    "    Ξ  = fill(ξ, 1, 1) ##Control prior variance\n",
    "    mᵤ = Vector{Float64}[ [0.0] for k=1:T ] ##Set control priors\n",
    "    Vᵤ = Matrix{Float64}[ Ξ for k=1:T ]\n",
    "\n",
    "    ## Set target/goal priors\n",
    "    Σ       = σ*diageye(4) ##Target/Goal prior variance\n",
    "    Σ[3, 3] = 1e4\n",
    "    Σ[4, 4] = 1e4\n",
    "    mₓ      = [zeros(4) for k=1:T]\n",
    "    mₓ[end] = x₊ ##Set prior mean to reach target/goal at t=T\n",
    "    Vₓ      = [huge*diageye(4) for k=1:T]\n",
    "    Vₓ[end] = Σ ##Set prior variance to reach target/goal at t=T\n",
    "\n",
    "    ## Set initial brain state prior\n",
    "    mₛ₍ₜ₋₁₎ = s₀\n",
    "    Vₛ₍ₜ₋₁₎ = tiny*diageye(4)\n",
    "    \n",
    "    ## Set current inference results\n",
    "    result = nothing\n",
    "\n",
    "    ## Bayesian inference by message passing\n",
    "    ## The `infer` function is the heart of the agent\n",
    "    ## It calls the `RxInfer.infer` function to perform Bayesian inference by message passing\n",
    "    compute = (υₜ::Float64, ŷₜ::Vector{Float64}) -> begin\n",
    "        mᵤ[1] = [υₜ] ## Register action with the generative model\n",
    "        Vᵤ[1] = fill(tiny, 1, 1) ## Clamp control prior to performed action\n",
    "\n",
    "        mₓ[1] = ŷₜ ## Register observation with the generative model\n",
    "        Vₓ[1] = tiny*diageye(4) ## Clamp target/goal prior to observation\n",
    "        \n",
    "        model = dronenav_model(T = T, Rᵃ = Rᵃ, mₛ₍ₜ₋₁₎ = mₛ₍ₜ₋₁₎, Vₛ₍ₜ₋₁₎ =  Vₛ₍ₜ₋₁₎, mᵤ = mᵤ, Vᵤ = Vᵤ, mₓ = mₓ, Vₓ = Vₓ)\n",
    "        result = infer(\n",
    "            model=model,\n",
    "            data=Dict(\n",
    "                :mᵤ     => mᵤ, \n",
    "                :Vᵤ     => Vᵤ, \n",
    "                :mₓ     => mₓ, \n",
    "                :Vₓ     => Vₓ,\n",
    "                :mₛ₍ₜ₋₁₎ => mₛ₍ₜ₋₁₎,\n",
    "                :Vₛ₍ₜ₋₁₎ => Vₛ₍ₜ₋₁₎\n",
    "            )\n",
    "        )\n",
    "        \n",
    "    end\n",
    "    \n",
    "    ## The `act` function returns the inferred best possible action\n",
    "    act = () -> begin\n",
    "        if result !== nothing\n",
    "            return mode(result.posteriors[:u][3])[1]\n",
    "        else\n",
    "            return 0.0 ## Without inference result we return some 'random' action\n",
    "        end\n",
    "    end\n",
    "    \n",
    "    ## The `future` function returns the inferred future states\n",
    "    future = () -> begin \n",
    "        if result !== nothing \n",
    "            return getindex.(mode.(result.posteriors[:s]), 1)\n",
    "        else\n",
    "            return zeros(T)\n",
    "        end\n",
    "    end\n",
    "\n",
    "    ## The `slide` function modifies the `(mₛ₍ₜ₋₁₎, Vₛ₍ₜ₋₁₎` for the next step\n",
    "    ## and shifts (or slides) the array of future goals `(mₓ, Vₓ)` \n",
    "    ## and inferred actions `(mᵤ, Vᵤ)`\n",
    "    slide = () -> begin\n",
    "        \n",
    "        model  = RxInfer.getmodel(result.model)\n",
    "        (s, )  = RxInfer.getreturnval(model)\n",
    "        varref = RxInfer.getvarref(model, s) \n",
    "        var    = RxInfer.getvariable(varref)\n",
    "        \n",
    "        \n",
    "        slide_msg_idx = 3 ## This index is model dependent\n",
    "        (mₛ₍ₜ₋₁₎, Vₛ₍ₜ₋₁₎) = mean_cov(getrecent(messageout(var[2], slide_msg_idx))) \n",
    "\n",
    "        mᵤ = circshift(mᵤ, -1)\n",
    "        mᵤ[end] = [0.0]\n",
    "        Vᵤ = circshift(Vᵤ, -1)\n",
    "        Vᵤ[end] = Ξ\n",
    "\n",
    "        mₓ = circshift(mₓ, -1)\n",
    "        mₓ[end] = x₊\n",
    "        Vₓ = circshift(Vₓ, -1)\n",
    "        Vₓ[end] = Σ\n",
    "    end\n",
    "\n",
    "    return (act, future,   compute, slide)\n",
    "end"
   ]
  },
  {
   "cell_type": "markdown",
   "id": "0d56d747",
   "metadata": {},
   "source": [
    "### Agent Policy Evaluation\n",
    "\n",
    "#### Naive Approach\n",
    "\n",
    "In this simulation we are going to perform a naive action policy for a tight full-turn only. In this case the agent should not be able to achieve its goal:"
   ]
  },
  {
   "cell_type": "code",
   "execution_count": 22,
   "id": "4780a811",
   "metadata": {},
   "outputs": [],
   "source": [
    "_Nⁿᵃⁱᵛᵉ  = 100 ## Total simulation time\n",
    "_πⁿᵃⁱᵛᵉ = -0.1 ## Naive policy for full right turn action only\n",
    "_z₀ = [8.0, 8.0, -0.1, 0.1]\n",
    "\n",
    "(execute_naive, observe_naive) = create_envir(; ## Let there be a world\n",
    "    Rᵃ=Rᵃ,\n",
    "    z₀=_z₀\n",
    ");\n",
    "\n",
    "_yⁿᵃⁱᵛᵉ = Vector{Vector{Float64}}(undef, _Nⁿᵃⁱᵛᵉ)\n",
    "for t = 1:_Nⁿᵃⁱᵛᵉ\n",
    "    execute_naive(_πⁿᵃⁱᵛᵉ) ## Execute environmental process\n",
    "    _yⁿᵃⁱᵛᵉ[t] = observe_naive() ## Observe external states\n",
    "end"
   ]
  },
  {
   "cell_type": "code",
   "execution_count": 62,
   "id": "0a110dd4",
   "metadata": {},
   "outputs": [
    {
     "data": {
      "text/plain": [
       "100-element Vector{Vector{Float64}}:\n",
       " [8.099500416527803, 7.990016658335318, -0.10996679946249559, 0.1]\n",
       " [8.198896390738552, 7.979042128245321, -0.11993359892499117, 0.1]\n",
       " [8.298178049006994, 7.967077499898885, -0.12990039838748674, 0.1]\n",
       " [8.397335529063596, 7.954123961817553, -0.1398671978499823, 0.1]\n",
       " [8.496358980974227, 7.94018280075747, -0.14983399731247787, 0.1]\n",
       " [8.595238568118608, 7.925255401581565, -0.15980079677497344, 0.1]\n",
       " [8.693964468167453, 7.909343247121981, -0.169767596237469, 0.1]\n",
       " [8.792526874058176, 7.892447918032778, -0.17973439569996458, 0.1]\n",
       " [8.890915994969092, 7.874571092632912, -0.18970119516246015, 0.1]\n",
       " [8.989122057291999, 7.855714546739526, -0.1996679946249557, 0.1]\n",
       " [9.087135305603052, 7.835880153491539, -0.20963479408745128, 0.1]\n",
       " [9.184946003631833, 7.815069883163577, -0.21960159354994685, 0.1]\n",
       " [9.282544435228509, 7.7932858029702565, -0.22956839301244242, 0.1]\n",
       " ⋮\n",
       " [15.392276782426686, 3.5835164794265206, -0.9870451521621056, 0.1]\n",
       " [15.44739256154706, 3.500076375807493, -0.9970119516246012, 0.1]\n",
       " [15.50167398615816, 3.416091097679779, -1.006978751087097, 0.1]\n",
       " [15.555115664145777, 3.3315689878275765, -1.0169455505495926, 0.1]\n",
       " [15.607712286813, 3.246518442361943, -1.0269123500120882, 0.1]\n",
       " [15.65945862940756, 3.1609479098867594, -1.036879149474584, 0.1]\n",
       " [15.710349551640839, 3.074865890659476, -1.0468459489370796, 0.1]\n",
       " [15.760379998198484, 2.988280935746728, -1.0568127483995753, 0.1]\n",
       " [15.80954499924259, 2.901201646174907, -1.066779547862071, 0.1]\n",
       " [15.857839670905376, 2.8136366720757633, -1.0767463473245666, 0.1]\n",
       " [15.905259215774336, 2.7255947118271378, -1.0867131467870623, 0.1]\n",
       " [15.951798923368797, 2.6370845111888945, -1.096679946249558, 0.1]"
      ]
     },
     "execution_count": 62,
     "metadata": {},
     "output_type": "execute_result"
    }
   ],
   "source": [
    "_yⁿᵃⁱᵛᵉ"
   ]
  },
  {
   "cell_type": "code",
   "execution_count": 17,
   "id": "42dc536b",
   "metadata": {},
   "outputs": [
    {
     "data": {
      "text/html": [
       "<img src=\"data:image/gif;base64,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\" />"
      ],
      "text/plain": [
       "Plots.AnimatedGif(\"/home/fraserp/Desktop/Active_Inference_Institute/RxInfer_Group/RxInfer_Kobus_Examples/fly_drone_to_target/shipnav-naive.gif\")"
      ]
     },
     "execution_count": 17,
     "metadata": {},
     "output_type": "execute_result"
    }
   ],
   "source": [
    "_x₊ = [0.0, 0.0, 0.0*π, 0.0]\n",
    "\n",
    "animation_naive = @animate for i in 1:_Nⁿᵃⁱᵛᵉ\n",
    "    scatter([_x₊[1]], [_x₊[2]], \n",
    "    xlims=(0, 1.5*_z₀[1]),\n",
    "    ylims=(0, 1.5*_z₀[2]), \n",
    "    label=\"Target\", markersize=10)\n",
    "    scatter!(\n",
    "        [_yⁿᵃⁱᵛᵉ[i][1]], [_yⁿᵃⁱᵛᵉ[i][2]], \n",
    "        xlims=(0, 1.5*_z₀[1]),\n",
    "        ylims=(0, 1.5*_z₀[2]), \n",
    "        label=\"Drone\", markersize=6)\n",
    "    plot!(\n",
    "        [_yⁿᵃⁱᵛᵉ[i][1], _yⁿᵃⁱᵛᵉ[i][1] + 10*_yⁿᵃⁱᵛᵉ[i][4]*cos(_yⁿᵃⁱᵛᵉ[i][3])], \n",
    "        [_yⁿᵃⁱᵛᵉ[i][2], _yⁿᵃⁱᵛᵉ[i][2] + 10*_yⁿᵃⁱᵛᵉ[i][4]*sin(_yⁿᵃⁱᵛᵉ[i][3])], \n",
    "        arrow=true, color=:black, label=\"Velocity\",\n",
    "        title=\"Move to Target/Goal\", legend=:topleft, \n",
    "        aspect_ratio=:equal,\n",
    "        size=(600, 600)\n",
    "    )\n",
    "end\n",
    "gif(animation_naive, \"shipnav-naive.gif\", fps=24, show_msg=false) #."
   ]
  },
  {
   "cell_type": "markdown",
   "id": "edd1ed51",
   "metadata": {},
   "source": [
    "#### Active Inference Approach\n",
    "\n",
    "We'll now instantiate the above Active Inference agent. In the active inference approach we are going to create an agent that models the environment around itself as well as the best possible actions in a probabilistic manner."
   ]
  },
  {
   "cell_type": "code",
   "execution_count": 39,
   "id": "eb226d09",
   "metadata": {},
   "outputs": [
    {
     "data": {
      "text/plain": [
       "4-element Vector{Float64}:\n",
       " 0.0\n",
       " 0.0\n",
       " 0.0\n",
       " 0.1"
      ]
     },
     "execution_count": 39,
     "metadata": {},
     "output_type": "execute_result"
    }
   ],
   "source": [
    "### Simulation parameters\n",
    "\n",
    "## Total simulation time\n",
    "_Nᵃⁱ = 200 ## Total simulation time\n",
    "\n",
    "## Lookahead time horizon\n",
    "_Tᵃⁱ = 100 ## Lookahead time horizon\n",
    "\n",
    "## Initial state\n",
    "_s₀ = [8.0, 8.0, -0.1, 0.1] ## initial state\n",
    "\n",
    "## Control prior variance value\n",
    "_ξ = 1.0\n",
    "\n",
    "## Target prior variance value\n",
    "_σ = 1e-6\n",
    "\n",
    "## Target/Goal state\n",
    "_x₊ = [0.0, 0.0, 0.0*π, 0.1]"
   ]
  },
  {
   "cell_type": "code",
   "execution_count": 40,
   "id": "af7985bd",
   "metadata": {},
   "outputs": [
    {
     "ename": "LoadError",
     "evalue": "Fixed keys in the `ModelGenerator` should not intersect with the extra keyword arguments in (Vₓ = GraphPPL.LazyNodeLabel{GraphPPL.NodeCreationOptions{@NamedTuple{kind::Symbol, factorized::Bool}}, Vector{Matrix{Float64}}}(GraphPPL.Model{MetaGraphsNext.MetaGraph{Int64, Graphs.SimpleGraphs.SimpleGraph{Int64}, GraphPPL.NodeLabel, GraphPPL.NodeData, GraphPPL.EdgeLabel, GraphPPL.Context, MetaGraphsNext.var\"#4#8\", Float64}, GraphPPL.PluginsCollection{Tuple{GraphPPL.VariationalConstraintsPlugin{GraphPPL.NoConstraints}, GraphPPL.MetaPlugin{GraphPPL.MetaSpecification}, RxInfer.InitializationPlugin{RxInfer.NoInit}, RxInfer.ReactiveMPInferencePlugin{RxInfer.ReactiveMPInferenceOptions{Nothing, Nothing}}}}, RxInfer.ReactiveMPGraphPPLBackend}(Meta graph based on a Graphs.SimpleGraphs.SimpleGraph{Int64} with vertex labels of type GraphPPL.NodeLabel, vertex metadata of type GraphPPL.NodeData, edge metadata of type GraphPPL.EdgeLabel, graph metadata given by GraphPPL.Context(0, dronenav_model, \"\", nothing, {}, {}, {}, {}, {}, {}, {}, Base.RefValue{Any}(#undef)), and default weight 1.0, GraphPPL.PluginsCollection{Tuple{GraphPPL.VariationalConstraintsPlugin{GraphPPL.NoConstraints}, GraphPPL.MetaPlugin{GraphPPL.MetaSpecification}, RxInfer.InitializationPlugin{RxInfer.NoInit}, RxInfer.ReactiveMPInferencePlugin{RxInfer.ReactiveMPInferenceOptions{Nothing, Nothing}}}}((GraphPPL.VariationalConstraintsPlugin{GraphPPL.NoConstraints}(GraphPPL.NoConstraints()), GraphPPL.MetaPlugin{GraphPPL.MetaSpecification}(Meta: \n), RxInfer.InitializationPlugin{RxInfer.NoInit}(RxInfer.NoInit()), RxInfer.ReactiveMPInferencePlugin{RxInfer.ReactiveMPInferenceOptions{Nothing, Nothing}}(RxInfer.ReactiveMPInferenceOptions{Nothing, Nothing}(nothing, nothing, true)))), RxInfer.ReactiveMPGraphPPLBackend(), Base.RefValue{Int64}(0)), GraphPPL.Context(0, dronenav_model, \"\", nothing, {}, {}, {}, {}, {}, {}, {}, Base.RefValue{Any}(#undef)), GraphPPL.NodeCreationOptions{@NamedTuple{kind::Symbol, factorized::Bool}}((kind = :data, factorized = true)), :Vₓ, [[1.0e-12 0.0 0.0 0.0; 0.0 1.0e-12 0.0 0.0; 0.0 0.0 1.0e-12 0.0; 0.0 0.0 0.0 1.0e-12], [1.0e12 0.0 0.0 0.0; 0.0 1.0e12 0.0 0.0; 0.0 0.0 1.0e12 0.0; 0.0 0.0 0.0 1.0e12], [1.0e12 0.0 0.0 0.0; 0.0 1.0e12 0.0 0.0; 0.0 0.0 1.0e12 0.0; 0.0 0.0 0.0 1.0e12], [1.0e12 0.0 0.0 0.0; 0.0 1.0e12 0.0 0.0; 0.0 0.0 1.0e12 0.0; 0.0 0.0 0.0 1.0e12], [1.0e12 0.0 0.0 0.0; 0.0 1.0e12 0.0 0.0; 0.0 0.0 1.0e12 0.0; 0.0 0.0 0.0 1.0e12], [1.0e12 0.0 0.0 0.0; 0.0 1.0e12 0.0 0.0; 0.0 0.0 1.0e12 0.0; 0.0 0.0 0.0 1.0e12], [1.0e12 0.0 0.0 0.0; 0.0 1.0e12 0.0 0.0; 0.0 0.0 1.0e12 0.0; 0.0 0.0 0.0 1.0e12], [1.0e12 0.0 0.0 0.0; 0.0 1.0e12 0.0 0.0; 0.0 0.0 1.0e12 0.0; 0.0 0.0 0.0 1.0e12], [1.0e12 0.0 0.0 0.0; 0.0 1.0e12 0.0 0.0; 0.0 0.0 1.0e12 0.0; 0.0 0.0 0.0 1.0e12], [1.0e12 0.0 0.0 0.0; 0.0 1.0e12 0.0 0.0; 0.0 0.0 1.0e12 0.0; 0.0 0.0 0.0 1.0e12], [1.0e12 0.0 0.0 0.0; 0.0 1.0e12 0.0 0.0; 0.0 0.0 1.0e12 0.0; 0.0 0.0 0.0 1.0e12], [1.0e12 0.0 0.0 0.0; 0.0 1.0e12 0.0 0.0; 0.0 0.0 1.0e12 0.0; 0.0 0.0 0.0 1.0e12], [1.0e12 0.0 0.0 0.0; 0.0 1.0e12 0.0 0.0; 0.0 0.0 1.0e12 0.0; 0.0 0.0 0.0 1.0e12], [1.0e12 0.0 0.0 0.0; 0.0 1.0e12 0.0 0.0; 0.0 0.0 1.0e12 0.0; 0.0 0.0 0.0 1.0e12], [1.0e12 0.0 0.0 0.0; 0.0 1.0e12 0.0 0.0; 0.0 0.0 1.0e12 0.0; 0.0 0.0 0.0 1.0e12], [1.0e12 0.0 0.0 0.0; 0.0 1.0e12 0.0 0.0; 0.0 0.0 1.0e12 0.0; 0.0 0.0 0.0 1.0e12], [1.0e12 0.0 0.0 0.0; 0.0 1.0e12 0.0 0.0; 0.0 0.0 1.0e12 0.0; 0.0 0.0 0.0 1.0e12], [1.0e12 0.0 0.0 0.0; 0.0 1.0e12 0.0 0.0; 0.0 0.0 1.0e12 0.0; 0.0 0.0 0.0 1.0e12], [1.0e12 0.0 0.0 0.0; 0.0 1.0e12 0.0 0.0; 0.0 0.0 1.0e12 0.0; 0.0 0.0 0.0 1.0e12], [1.0e12 0.0 0.0 0.0; 0.0 1.0e12 0.0 0.0; 0.0 0.0 1.0e12 0.0; 0.0 0.0 0.0 1.0e12], [1.0e12 0.0 0.0 0.0; 0.0 1.0e12 0.0 0.0; 0.0 0.0 1.0e12 0.0; 0.0 0.0 0.0 1.0e12], [1.0e12 0.0 0.0 0.0; 0.0 1.0e12 0.0 0.0; 0.0 0.0 1.0e12 0.0; 0.0 0.0 0.0 1.0e12], [1.0e12 0.0 0.0 0.0; 0.0 1.0e12 0.0 0.0; 0.0 0.0 1.0e12 0.0; 0.0 0.0 0.0 1.0e12], [1.0e12 0.0 0.0 0.0; 0.0 1.0e12 0.0 0.0; 0.0 0.0 1.0e12 0.0; 0.0 0.0 0.0 1.0e12], [1.0e12 0.0 0.0 0.0; 0.0 1.0e12 0.0 0.0; 0.0 0.0 1.0e12 0.0; 0.0 0.0 0.0 1.0e12], [1.0e12 0.0 0.0 0.0; 0.0 1.0e12 0.0 0.0; 0.0 0.0 1.0e12 0.0; 0.0 0.0 0.0 1.0e12], [1.0e12 0.0 0.0 0.0; 0.0 1.0e12 0.0 0.0; 0.0 0.0 1.0e12 0.0; 0.0 0.0 0.0 1.0e12], [1.0e12 0.0 0.0 0.0; 0.0 1.0e12 0.0 0.0; 0.0 0.0 1.0e12 0.0; 0.0 0.0 0.0 1.0e12], [1.0e12 0.0 0.0 0.0; 0.0 1.0e12 0.0 0.0; 0.0 0.0 1.0e12 0.0; 0.0 0.0 0.0 1.0e12], [1.0e12 0.0 0.0 0.0; 0.0 1.0e12 0.0 0.0; 0.0 0.0 1.0e12 0.0; 0.0 0.0 0.0 1.0e12], [1.0e12 0.0 0.0 0.0; 0.0 1.0e12 0.0 0.0; 0.0 0.0 1.0e12 0.0; 0.0 0.0 0.0 1.0e12], [1.0e12 0.0 0.0 0.0; 0.0 1.0e12 0.0 0.0; 0.0 0.0 1.0e12 0.0; 0.0 0.0 0.0 1.0e12], [1.0e12 0.0 0.0 0.0; 0.0 1.0e12 0.0 0.0; 0.0 0.0 1.0e12 0.0; 0.0 0.0 0.0 1.0e12], [1.0e12 0.0 0.0 0.0; 0.0 1.0e12 0.0 0.0; 0.0 0.0 1.0e12 0.0; 0.0 0.0 0.0 1.0e12], [1.0e12 0.0 0.0 0.0; 0.0 1.0e12 0.0 0.0; 0.0 0.0 1.0e12 0.0; 0.0 0.0 0.0 1.0e12], [1.0e12 0.0 0.0 0.0; 0.0 1.0e12 0.0 0.0; 0.0 0.0 1.0e12 0.0; 0.0 0.0 0.0 1.0e12], [1.0e12 0.0 0.0 0.0; 0.0 1.0e12 0.0 0.0; 0.0 0.0 1.0e12 0.0; 0.0 0.0 0.0 1.0e12], [1.0e12 0.0 0.0 0.0; 0.0 1.0e12 0.0 0.0; 0.0 0.0 1.0e12 0.0; 0.0 0.0 0.0 1.0e12], [1.0e12 0.0 0.0 0.0; 0.0 1.0e12 0.0 0.0; 0.0 0.0 1.0e12 0.0; 0.0 0.0 0.0 1.0e12], [1.0e12 0.0 0.0 0.0; 0.0 1.0e12 0.0 0.0; 0.0 0.0 1.0e12 0.0; 0.0 0.0 0.0 1.0e12], [1.0e12 0.0 0.0 0.0; 0.0 1.0e12 0.0 0.0; 0.0 0.0 1.0e12 0.0; 0.0 0.0 0.0 1.0e12], [1.0e12 0.0 0.0 0.0; 0.0 1.0e12 0.0 0.0; 0.0 0.0 1.0e12 0.0; 0.0 0.0 0.0 1.0e12], [1.0e12 0.0 0.0 0.0; 0.0 1.0e12 0.0 0.0; 0.0 0.0 1.0e12 0.0; 0.0 0.0 0.0 1.0e12], [1.0e12 0.0 0.0 0.0; 0.0 1.0e12 0.0 0.0; 0.0 0.0 1.0e12 0.0; 0.0 0.0 0.0 1.0e12], [1.0e12 0.0 0.0 0.0; 0.0 1.0e12 0.0 0.0; 0.0 0.0 1.0e12 0.0; 0.0 0.0 0.0 1.0e12], [1.0e12 0.0 0.0 0.0; 0.0 1.0e12 0.0 0.0; 0.0 0.0 1.0e12 0.0; 0.0 0.0 0.0 1.0e12], [1.0e12 0.0 0.0 0.0; 0.0 1.0e12 0.0 0.0; 0.0 0.0 1.0e12 0.0; 0.0 0.0 0.0 1.0e12], [1.0e12 0.0 0.0 0.0; 0.0 1.0e12 0.0 0.0; 0.0 0.0 1.0e12 0.0; 0.0 0.0 0.0 1.0e12], [1.0e12 0.0 0.0 0.0; 0.0 1.0e12 0.0 0.0; 0.0 0.0 1.0e12 0.0; 0.0 0.0 0.0 1.0e12], [1.0e12 0.0 0.0 0.0; 0.0 1.0e12 0.0 0.0; 0.0 0.0 1.0e12 0.0; 0.0 0.0 0.0 1.0e12], [1.0e12 0.0 0.0 0.0; 0.0 1.0e12 0.0 0.0; 0.0 0.0 1.0e12 0.0; 0.0 0.0 0.0 1.0e12], [1.0e12 0.0 0.0 0.0; 0.0 1.0e12 0.0 0.0; 0.0 0.0 1.0e12 0.0; 0.0 0.0 0.0 1.0e12], [1.0e12 0.0 0.0 0.0; 0.0 1.0e12 0.0 0.0; 0.0 0.0 1.0e12 0.0; 0.0 0.0 0.0 1.0e12], [1.0e12 0.0 0.0 0.0; 0.0 1.0e12 0.0 0.0; 0.0 0.0 1.0e12 0.0; 0.0 0.0 0.0 1.0e12], [1.0e12 0.0 0.0 0.0; 0.0 1.0e12 0.0 0.0; 0.0 0.0 1.0e12 0.0; 0.0 0.0 0.0 1.0e12], [1.0e12 0.0 0.0 0.0; 0.0 1.0e12 0.0 0.0; 0.0 0.0 1.0e12 0.0; 0.0 0.0 0.0 1.0e12], [1.0e12 0.0 0.0 0.0; 0.0 1.0e12 0.0 0.0; 0.0 0.0 1.0e12 0.0; 0.0 0.0 0.0 1.0e12], [1.0e12 0.0 0.0 0.0; 0.0 1.0e12 0.0 0.0; 0.0 0.0 1.0e12 0.0; 0.0 0.0 0.0 1.0e12], [1.0e12 0.0 0.0 0.0; 0.0 1.0e12 0.0 0.0; 0.0 0.0 1.0e12 0.0; 0.0 0.0 0.0 1.0e12], [1.0e12 0.0 0.0 0.0; 0.0 1.0e12 0.0 0.0; 0.0 0.0 1.0e12 0.0; 0.0 0.0 0.0 1.0e12], [1.0e12 0.0 0.0 0.0; 0.0 1.0e12 0.0 0.0; 0.0 0.0 1.0e12 0.0; 0.0 0.0 0.0 1.0e12], [1.0e12 0.0 0.0 0.0; 0.0 1.0e12 0.0 0.0; 0.0 0.0 1.0e12 0.0; 0.0 0.0 0.0 1.0e12], [1.0e12 0.0 0.0 0.0; 0.0 1.0e12 0.0 0.0; 0.0 0.0 1.0e12 0.0; 0.0 0.0 0.0 1.0e12], [1.0e12 0.0 0.0 0.0; 0.0 1.0e12 0.0 0.0; 0.0 0.0 1.0e12 0.0; 0.0 0.0 0.0 1.0e12], [1.0e12 0.0 0.0 0.0; 0.0 1.0e12 0.0 0.0; 0.0 0.0 1.0e12 0.0; 0.0 0.0 0.0 1.0e12], [1.0e12 0.0 0.0 0.0; 0.0 1.0e12 0.0 0.0; 0.0 0.0 1.0e12 0.0; 0.0 0.0 0.0 1.0e12], [1.0e12 0.0 0.0 0.0; 0.0 1.0e12 0.0 0.0; 0.0 0.0 1.0e12 0.0; 0.0 0.0 0.0 1.0e12], [1.0e12 0.0 0.0 0.0; 0.0 1.0e12 0.0 0.0; 0.0 0.0 1.0e12 0.0; 0.0 0.0 0.0 1.0e12], [1.0e12 0.0 0.0 0.0; 0.0 1.0e12 0.0 0.0; 0.0 0.0 1.0e12 0.0; 0.0 0.0 0.0 1.0e12], [1.0e12 0.0 0.0 0.0; 0.0 1.0e12 0.0 0.0; 0.0 0.0 1.0e12 0.0; 0.0 0.0 0.0 1.0e12], [1.0e12 0.0 0.0 0.0; 0.0 1.0e12 0.0 0.0; 0.0 0.0 1.0e12 0.0; 0.0 0.0 0.0 1.0e12], [1.0e12 0.0 0.0 0.0; 0.0 1.0e12 0.0 0.0; 0.0 0.0 1.0e12 0.0; 0.0 0.0 0.0 1.0e12], [1.0e12 0.0 0.0 0.0; 0.0 1.0e12 0.0 0.0; 0.0 0.0 1.0e12 0.0; 0.0 0.0 0.0 1.0e12], [1.0e12 0.0 0.0 0.0; 0.0 1.0e12 0.0 0.0; 0.0 0.0 1.0e12 0.0; 0.0 0.0 0.0 1.0e12], [1.0e12 0.0 0.0 0.0; 0.0 1.0e12 0.0 0.0; 0.0 0.0 1.0e12 0.0; 0.0 0.0 0.0 1.0e12], [1.0e12 0.0 0.0 0.0; 0.0 1.0e12 0.0 0.0; 0.0 0.0 1.0e12 0.0; 0.0 0.0 0.0 1.0e12], [1.0e12 0.0 0.0 0.0; 0.0 1.0e12 0.0 0.0; 0.0 0.0 1.0e12 0.0; 0.0 0.0 0.0 1.0e12], [1.0e12 0.0 0.0 0.0; 0.0 1.0e12 0.0 0.0; 0.0 0.0 1.0e12 0.0; 0.0 0.0 0.0 1.0e12], [1.0e12 0.0 0.0 0.0; 0.0 1.0e12 0.0 0.0; 0.0 0.0 1.0e12 0.0; 0.0 0.0 0.0 1.0e12], [1.0e12 0.0 0.0 0.0; 0.0 1.0e12 0.0 0.0; 0.0 0.0 1.0e12 0.0; 0.0 0.0 0.0 1.0e12], [1.0e12 0.0 0.0 0.0; 0.0 1.0e12 0.0 0.0; 0.0 0.0 1.0e12 0.0; 0.0 0.0 0.0 1.0e12], [1.0e12 0.0 0.0 0.0; 0.0 1.0e12 0.0 0.0; 0.0 0.0 1.0e12 0.0; 0.0 0.0 0.0 1.0e12], [1.0e12 0.0 0.0 0.0; 0.0 1.0e12 0.0 0.0; 0.0 0.0 1.0e12 0.0; 0.0 0.0 0.0 1.0e12], [1.0e12 0.0 0.0 0.0; 0.0 1.0e12 0.0 0.0; 0.0 0.0 1.0e12 0.0; 0.0 0.0 0.0 1.0e12], [1.0e12 0.0 0.0 0.0; 0.0 1.0e12 0.0 0.0; 0.0 0.0 1.0e12 0.0; 0.0 0.0 0.0 1.0e12], [1.0e12 0.0 0.0 0.0; 0.0 1.0e12 0.0 0.0; 0.0 0.0 1.0e12 0.0; 0.0 0.0 0.0 1.0e12], [1.0e12 0.0 0.0 0.0; 0.0 1.0e12 0.0 0.0; 0.0 0.0 1.0e12 0.0; 0.0 0.0 0.0 1.0e12], [1.0e12 0.0 0.0 0.0; 0.0 1.0e12 0.0 0.0; 0.0 0.0 1.0e12 0.0; 0.0 0.0 0.0 1.0e12], [1.0e12 0.0 0.0 0.0; 0.0 1.0e12 0.0 0.0; 0.0 0.0 1.0e12 0.0; 0.0 0.0 0.0 1.0e12], [1.0e12 0.0 0.0 0.0; 0.0 1.0e12 0.0 0.0; 0.0 0.0 1.0e12 0.0; 0.0 0.0 0.0 1.0e12], [1.0e12 0.0 0.0 0.0; 0.0 1.0e12 0.0 0.0; 0.0 0.0 1.0e12 0.0; 0.0 0.0 0.0 1.0e12], [1.0e12 0.0 0.0 0.0; 0.0 1.0e12 0.0 0.0; 0.0 0.0 1.0e12 0.0; 0.0 0.0 0.0 1.0e12], [1.0e12 0.0 0.0 0.0; 0.0 1.0e12 0.0 0.0; 0.0 0.0 1.0e12 0.0; 0.0 0.0 0.0 1.0e12], [1.0e12 0.0 0.0 0.0; 0.0 1.0e12 0.0 0.0; 0.0 0.0 1.0e12 0.0; 0.0 0.0 0.0 1.0e12], [1.0e12 0.0 0.0 0.0; 0.0 1.0e12 0.0 0.0; 0.0 0.0 1.0e12 0.0; 0.0 0.0 0.0 1.0e12], [1.0e12 0.0 0.0 0.0; 0.0 1.0e12 0.0 0.0; 0.0 0.0 1.0e12 0.0; 0.0 0.0 0.0 1.0e12], [1.0e12 0.0 0.0 0.0; 0.0 1.0e12 0.0 0.0; 0.0 0.0 1.0e12 0.0; 0.0 0.0 0.0 1.0e12], [1.0e12 0.0 0.0 0.0; 0.0 1.0e12 0.0 0.0; 0.0 0.0 1.0e12 0.0; 0.0 0.0 0.0 1.0e12], [1.0e12 0.0 0.0 0.0; 0.0 1.0e12 0.0 0.0; 0.0 0.0 1.0e12 0.0; 0.0 0.0 0.0 1.0e12], [1.0e-6 0.0 0.0 0.0; 0.0 1.0e-6 0.0 0.0; 0.0 0.0 10000.0 0.0; 0.0 0.0 0.0 10000.0]]), Vₛ₍ₜ₋₁₎ = GraphPPL.LazyNodeLabel{GraphPPL.NodeCreationOptions{@NamedTuple{kind::Symbol, factorized::Bool}}, Matrix{Float64}}(GraphPPL.Model{MetaGraphsNext.MetaGraph{Int64, Graphs.SimpleGraphs.SimpleGraph{Int64}, GraphPPL.NodeLabel, GraphPPL.NodeData, GraphPPL.EdgeLabel, GraphPPL.Context, MetaGraphsNext.var\"#4#8\", Float64}, GraphPPL.PluginsCollection{Tuple{GraphPPL.VariationalConstraintsPlugin{GraphPPL.NoConstraints}, GraphPPL.MetaPlugin{GraphPPL.MetaSpecification}, RxInfer.InitializationPlugin{RxInfer.NoInit}, RxInfer.ReactiveMPInferencePlugin{RxInfer.ReactiveMPInferenceOptions{Nothing, Nothing}}}}, RxInfer.ReactiveMPGraphPPLBackend}(Meta graph based on a Graphs.SimpleGraphs.SimpleGraph{Int64} with vertex labels of type GraphPPL.NodeLabel, vertex metadata of type GraphPPL.NodeData, edge metadata of type GraphPPL.EdgeLabel, graph metadata given by GraphPPL.Context(0, dronenav_model, \"\", nothing, {}, {}, {}, {}, {}, {}, {}, Base.RefValue{Any}(#undef)), and default weight 1.0, GraphPPL.PluginsCollection{Tuple{GraphPPL.VariationalConstraintsPlugin{GraphPPL.NoConstraints}, GraphPPL.MetaPlugin{GraphPPL.MetaSpecification}, RxInfer.InitializationPlugin{RxInfer.NoInit}, RxInfer.ReactiveMPInferencePlugin{RxInfer.ReactiveMPInferenceOptions{Nothing, Nothing}}}}((GraphPPL.VariationalConstraintsPlugin{GraphPPL.NoConstraints}(GraphPPL.NoConstraints()), GraphPPL.MetaPlugin{GraphPPL.MetaSpecification}(Meta: \n), RxInfer.InitializationPlugin{RxInfer.NoInit}(RxInfer.NoInit()), RxInfer.ReactiveMPInferencePlugin{RxInfer.ReactiveMPInferenceOptions{Nothing, Nothing}}(RxInfer.ReactiveMPInferenceOptions{Nothing, Nothing}(nothing, nothing, true)))), RxInfer.ReactiveMPGraphPPLBackend(), Base.RefValue{Int64}(0)), GraphPPL.Context(0, dronenav_model, \"\", nothing, {}, {}, {}, {}, {}, {}, {}, Base.RefValue{Any}(#undef)), GraphPPL.NodeCreationOptions{@NamedTuple{kind::Symbol, factorized::Bool}}((kind = :data, factorized = true)), :Vₛ₍ₜ₋₁₎, [1.0e-12 0.0 0.0 0.0; 0.0 1.0e-12 0.0 0.0; 0.0 0.0 1.0e-12 0.0; 0.0 0.0 0.0 1.0e-12]), Vᵤ = GraphPPL.LazyNodeLabel{GraphPPL.NodeCreationOptions{@NamedTuple{kind::Symbol, factorized::Bool}}, Vector{Matrix{Float64}}}(GraphPPL.Model{MetaGraphsNext.MetaGraph{Int64, Graphs.SimpleGraphs.SimpleGraph{Int64}, GraphPPL.NodeLabel, GraphPPL.NodeData, GraphPPL.EdgeLabel, GraphPPL.Context, MetaGraphsNext.var\"#4#8\", Float64}, GraphPPL.PluginsCollection{Tuple{GraphPPL.VariationalConstraintsPlugin{GraphPPL.NoConstraints}, GraphPPL.MetaPlugin{GraphPPL.MetaSpecification}, RxInfer.InitializationPlugin{RxInfer.NoInit}, RxInfer.ReactiveMPInferencePlugin{RxInfer.ReactiveMPInferenceOptions{Nothing, Nothing}}}}, RxInfer.ReactiveMPGraphPPLBackend}(Meta graph based on a Graphs.SimpleGraphs.SimpleGraph{Int64} with vertex labels of type GraphPPL.NodeLabel, vertex metadata of type GraphPPL.NodeData, edge metadata of type GraphPPL.EdgeLabel, graph metadata given by GraphPPL.Context(0, dronenav_model, \"\", nothing, {}, {}, {}, {}, {}, {}, {}, Base.RefValue{Any}(#undef)), and default weight 1.0, GraphPPL.PluginsCollection{Tuple{GraphPPL.VariationalConstraintsPlugin{GraphPPL.NoConstraints}, GraphPPL.MetaPlugin{GraphPPL.MetaSpecification}, RxInfer.InitializationPlugin{RxInfer.NoInit}, RxInfer.ReactiveMPInferencePlugin{RxInfer.ReactiveMPInferenceOptions{Nothing, Nothing}}}}((GraphPPL.VariationalConstraintsPlugin{GraphPPL.NoConstraints}(GraphPPL.NoConstraints()), GraphPPL.MetaPlugin{GraphPPL.MetaSpecification}(Meta: \n), RxInfer.InitializationPlugin{RxInfer.NoInit}(RxInfer.NoInit()), RxInfer.ReactiveMPInferencePlugin{RxInfer.ReactiveMPInferenceOptions{Nothing, Nothing}}(RxInfer.ReactiveMPInferenceOptions{Nothing, Nothing}(nothing, nothing, true)))), RxInfer.ReactiveMPGraphPPLBackend(), Base.RefValue{Int64}(0)), GraphPPL.Context(0, dronenav_model, \"\", nothing, {}, {}, {}, {}, {}, {}, {}, Base.RefValue{Any}(#undef)), GraphPPL.NodeCreationOptions{@NamedTuple{kind::Symbol, factorized::Bool}}((kind = :data, factorized = true)), :Vᵤ, [[1.0e-12;;], [1.0;;], [1.0;;], [1.0;;], [1.0;;], [1.0;;], [1.0;;], [1.0;;], [1.0;;], [1.0;;], [1.0;;], [1.0;;], [1.0;;], [1.0;;], [1.0;;], [1.0;;], [1.0;;], [1.0;;], [1.0;;], [1.0;;], [1.0;;], [1.0;;], [1.0;;], [1.0;;], [1.0;;], [1.0;;], [1.0;;], [1.0;;], [1.0;;], [1.0;;], [1.0;;], [1.0;;], [1.0;;], [1.0;;], [1.0;;], [1.0;;], [1.0;;], [1.0;;], [1.0;;], [1.0;;], [1.0;;], [1.0;;], [1.0;;], [1.0;;], [1.0;;], [1.0;;], [1.0;;], [1.0;;], [1.0;;], [1.0;;], [1.0;;], [1.0;;], [1.0;;], [1.0;;], [1.0;;], [1.0;;], [1.0;;], [1.0;;], [1.0;;], [1.0;;], [1.0;;], [1.0;;], [1.0;;], [1.0;;], [1.0;;], [1.0;;], [1.0;;], [1.0;;], [1.0;;], [1.0;;], [1.0;;], [1.0;;], [1.0;;], [1.0;;], [1.0;;], [1.0;;], [1.0;;], [1.0;;], [1.0;;], [1.0;;], [1.0;;], [1.0;;], [1.0;;], [1.0;;], [1.0;;], [1.0;;], [1.0;;], [1.0;;], [1.0;;], [1.0;;], [1.0;;], [1.0;;], [1.0;;], [1.0;;], [1.0;;], [1.0;;], [1.0;;], [1.0;;], [1.0;;], [1.0;;]]), mᵤ = GraphPPL.LazyNodeLabel{GraphPPL.NodeCreationOptions{@NamedTuple{kind::Symbol, factorized::Bool}}, Vector{Vector{Float64}}}(GraphPPL.Model{MetaGraphsNext.MetaGraph{Int64, Graphs.SimpleGraphs.SimpleGraph{Int64}, GraphPPL.NodeLabel, GraphPPL.NodeData, GraphPPL.EdgeLabel, GraphPPL.Context, MetaGraphsNext.var\"#4#8\", Float64}, GraphPPL.PluginsCollection{Tuple{GraphPPL.VariationalConstraintsPlugin{GraphPPL.NoConstraints}, GraphPPL.MetaPlugin{GraphPPL.MetaSpecification}, RxInfer.InitializationPlugin{RxInfer.NoInit}, RxInfer.ReactiveMPInferencePlugin{RxInfer.ReactiveMPInferenceOptions{Nothing, Nothing}}}}, RxInfer.ReactiveMPGraphPPLBackend}(Meta graph based on a Graphs.SimpleGraphs.SimpleGraph{Int64} with vertex labels of type GraphPPL.NodeLabel, vertex metadata of type GraphPPL.NodeData, edge metadata of type GraphPPL.EdgeLabel, graph metadata given by GraphPPL.Context(0, dronenav_model, \"\", nothing, {}, {}, {}, {}, {}, {}, {}, Base.RefValue{Any}(#undef)), and default weight 1.0, GraphPPL.PluginsCollection{Tuple{GraphPPL.VariationalConstraintsPlugin{GraphPPL.NoConstraints}, GraphPPL.MetaPlugin{GraphPPL.MetaSpecification}, RxInfer.InitializationPlugin{RxInfer.NoInit}, RxInfer.ReactiveMPInferencePlugin{RxInfer.ReactiveMPInferenceOptions{Nothing, Nothing}}}}((GraphPPL.VariationalConstraintsPlugin{GraphPPL.NoConstraints}(GraphPPL.NoConstraints()), GraphPPL.MetaPlugin{GraphPPL.MetaSpecification}(Meta: \n), RxInfer.InitializationPlugin{RxInfer.NoInit}(RxInfer.NoInit()), RxInfer.ReactiveMPInferencePlugin{RxInfer.ReactiveMPInferenceOptions{Nothing, Nothing}}(RxInfer.ReactiveMPInferenceOptions{Nothing, Nothing}(nothing, nothing, true)))), RxInfer.ReactiveMPGraphPPLBackend(), Base.RefValue{Int64}(0)), GraphPPL.Context(0, dronenav_model, \"\", nothing, {}, {}, {}, {}, {}, {}, {}, Base.RefValue{Any}(#undef)), GraphPPL.NodeCreationOptions{@NamedTuple{kind::Symbol, factorized::Bool}}((kind = :data, factorized = true)), :mᵤ, [[0.0], [0.0], [0.0], [0.0], [0.0], [0.0], [0.0], [0.0], [0.0], [0.0], [0.0], [0.0], [0.0], [0.0], [0.0], [0.0], [0.0], [0.0], [0.0], [0.0], [0.0], [0.0], [0.0], [0.0], [0.0], [0.0], [0.0], [0.0], [0.0], [0.0], [0.0], [0.0], [0.0], [0.0], [0.0], [0.0], [0.0], [0.0], [0.0], [0.0], [0.0], [0.0], [0.0], [0.0], [0.0], [0.0], [0.0], [0.0], [0.0], [0.0], [0.0], [0.0], [0.0], [0.0], [0.0], [0.0], [0.0], [0.0], [0.0], [0.0], [0.0], [0.0], [0.0], [0.0], [0.0], [0.0], [0.0], [0.0], [0.0], [0.0], [0.0], [0.0], [0.0], [0.0], [0.0], [0.0], [0.0], [0.0], [0.0], [0.0], [0.0], [0.0], [0.0], [0.0], [0.0], [0.0], [0.0], [0.0], [0.0], [0.0], [0.0], [0.0], [0.0], [0.0], [0.0], [0.0], [0.0], [0.0], [0.0], [0.0]]), mₛ₍ₜ₋₁₎ = GraphPPL.LazyNodeLabel{GraphPPL.NodeCreationOptions{@NamedTuple{kind::Symbol, factorized::Bool}}, Vector{Float64}}(GraphPPL.Model{MetaGraphsNext.MetaGraph{Int64, Graphs.SimpleGraphs.SimpleGraph{Int64}, GraphPPL.NodeLabel, GraphPPL.NodeData, GraphPPL.EdgeLabel, GraphPPL.Context, MetaGraphsNext.var\"#4#8\", Float64}, GraphPPL.PluginsCollection{Tuple{GraphPPL.VariationalConstraintsPlugin{GraphPPL.NoConstraints}, GraphPPL.MetaPlugin{GraphPPL.MetaSpecification}, RxInfer.InitializationPlugin{RxInfer.NoInit}, RxInfer.ReactiveMPInferencePlugin{RxInfer.ReactiveMPInferenceOptions{Nothing, Nothing}}}}, RxInfer.ReactiveMPGraphPPLBackend}(Meta graph based on a Graphs.SimpleGraphs.SimpleGraph{Int64} with vertex labels of type GraphPPL.NodeLabel, vertex metadata of type GraphPPL.NodeData, edge metadata of type GraphPPL.EdgeLabel, graph metadata given by GraphPPL.Context(0, dronenav_model, \"\", nothing, {}, {}, {}, {}, {}, {}, {}, Base.RefValue{Any}(#undef)), and default weight 1.0, GraphPPL.PluginsCollection{Tuple{GraphPPL.VariationalConstraintsPlugin{GraphPPL.NoConstraints}, GraphPPL.MetaPlugin{GraphPPL.MetaSpecification}, RxInfer.InitializationPlugin{RxInfer.NoInit}, RxInfer.ReactiveMPInferencePlugin{RxInfer.ReactiveMPInferenceOptions{Nothing, Nothing}}}}((GraphPPL.VariationalConstraintsPlugin{GraphPPL.NoConstraints}(GraphPPL.NoConstraints()), GraphPPL.MetaPlugin{GraphPPL.MetaSpecification}(Meta: \n), RxInfer.InitializationPlugin{RxInfer.NoInit}(RxInfer.NoInit()), RxInfer.ReactiveMPInferencePlugin{RxInfer.ReactiveMPInferenceOptions{Nothing, Nothing}}(RxInfer.ReactiveMPInferenceOptions{Nothing, Nothing}(nothing, nothing, true)))), RxInfer.ReactiveMPGraphPPLBackend(), Base.RefValue{Int64}(0)), GraphPPL.Context(0, dronenav_model, \"\", nothing, {}, {}, {}, {}, {}, {}, {}, Base.RefValue{Any}(#undef)), GraphPPL.NodeCreationOptions{@NamedTuple{kind::Symbol, factorized::Bool}}((kind = :data, factorized = true)), :mₛ₍ₜ₋₁₎, [8.0, 8.0, -0.1, 0.1]), mₓ = GraphPPL.LazyNodeLabel{GraphPPL.NodeCreationOptions{@NamedTuple{kind::Symbol, factorized::Bool}}, Vector{Vector{Float64}}}(GraphPPL.Model{MetaGraphsNext.MetaGraph{Int64, Graphs.SimpleGraphs.SimpleGraph{Int64}, GraphPPL.NodeLabel, GraphPPL.NodeData, GraphPPL.EdgeLabel, GraphPPL.Context, MetaGraphsNext.var\"#4#8\", Float64}, GraphPPL.PluginsCollection{Tuple{GraphPPL.VariationalConstraintsPlugin{GraphPPL.NoConstraints}, GraphPPL.MetaPlugin{GraphPPL.MetaSpecification}, RxInfer.InitializationPlugin{RxInfer.NoInit}, RxInfer.ReactiveMPInferencePlugin{RxInfer.ReactiveMPInferenceOptions{Nothing, Nothing}}}}, RxInfer.ReactiveMPGraphPPLBackend}(Meta graph based on a Graphs.SimpleGraphs.SimpleGraph{Int64} with vertex labels of type GraphPPL.NodeLabel, vertex metadata of type GraphPPL.NodeData, edge metadata of type GraphPPL.EdgeLabel, graph metadata given by GraphPPL.Context(0, dronenav_model, \"\", nothing, {}, {}, {}, {}, {}, {}, {}, Base.RefValue{Any}(#undef)), and default weight 1.0, GraphPPL.PluginsCollection{Tuple{GraphPPL.VariationalConstraintsPlugin{GraphPPL.NoConstraints}, GraphPPL.MetaPlugin{GraphPPL.MetaSpecification}, RxInfer.InitializationPlugin{RxInfer.NoInit}, RxInfer.ReactiveMPInferencePlugin{RxInfer.ReactiveMPInferenceOptions{Nothing, Nothing}}}}((GraphPPL.VariationalConstraintsPlugin{GraphPPL.NoConstraints}(GraphPPL.NoConstraints()), GraphPPL.MetaPlugin{GraphPPL.MetaSpecification}(Meta: \n), RxInfer.InitializationPlugin{RxInfer.NoInit}(RxInfer.NoInit()), RxInfer.ReactiveMPInferencePlugin{RxInfer.ReactiveMPInferenceOptions{Nothing, Nothing}}(RxInfer.ReactiveMPInferenceOptions{Nothing, Nothing}(nothing, nothing, true)))), RxInfer.ReactiveMPGraphPPLBackend(), Base.RefValue{Int64}(0)), GraphPPL.Context(0, dronenav_model, \"\", nothing, {}, {}, {}, {}, {}, {}, {}, Base.RefValue{Any}(#undef)), GraphPPL.NodeCreationOptions{@NamedTuple{kind::Symbol, factorized::Bool}}((kind = :data, factorized = true)), :mₓ, [[8.099500416527803, 7.990016658335318, -0.1, 0.1], [0.0, 0.0, 0.0, 0.0], [0.0, 0.0, 0.0, 0.0], [0.0, 0.0, 0.0, 0.0], [0.0, 0.0, 0.0, 0.0], [0.0, 0.0, 0.0, 0.0], [0.0, 0.0, 0.0, 0.0], [0.0, 0.0, 0.0, 0.0], [0.0, 0.0, 0.0, 0.0], [0.0, 0.0, 0.0, 0.0], [0.0, 0.0, 0.0, 0.0], [0.0, 0.0, 0.0, 0.0], [0.0, 0.0, 0.0, 0.0], [0.0, 0.0, 0.0, 0.0], [0.0, 0.0, 0.0, 0.0], [0.0, 0.0, 0.0, 0.0], [0.0, 0.0, 0.0, 0.0], [0.0, 0.0, 0.0, 0.0], [0.0, 0.0, 0.0, 0.0], [0.0, 0.0, 0.0, 0.0], [0.0, 0.0, 0.0, 0.0], [0.0, 0.0, 0.0, 0.0], [0.0, 0.0, 0.0, 0.0], [0.0, 0.0, 0.0, 0.0], [0.0, 0.0, 0.0, 0.0], [0.0, 0.0, 0.0, 0.0], [0.0, 0.0, 0.0, 0.0], [0.0, 0.0, 0.0, 0.0], [0.0, 0.0, 0.0, 0.0], [0.0, 0.0, 0.0, 0.0], [0.0, 0.0, 0.0, 0.0], [0.0, 0.0, 0.0, 0.0], [0.0, 0.0, 0.0, 0.0], [0.0, 0.0, 0.0, 0.0], [0.0, 0.0, 0.0, 0.0], [0.0, 0.0, 0.0, 0.0], [0.0, 0.0, 0.0, 0.0], [0.0, 0.0, 0.0, 0.0], [0.0, 0.0, 0.0, 0.0], [0.0, 0.0, 0.0, 0.0], [0.0, 0.0, 0.0, 0.0], [0.0, 0.0, 0.0, 0.0], [0.0, 0.0, 0.0, 0.0], [0.0, 0.0, 0.0, 0.0], [0.0, 0.0, 0.0, 0.0], [0.0, 0.0, 0.0, 0.0], [0.0, 0.0, 0.0, 0.0], [0.0, 0.0, 0.0, 0.0], [0.0, 0.0, 0.0, 0.0], [0.0, 0.0, 0.0, 0.0], [0.0, 0.0, 0.0, 0.0], [0.0, 0.0, 0.0, 0.0], [0.0, 0.0, 0.0, 0.0], [0.0, 0.0, 0.0, 0.0], [0.0, 0.0, 0.0, 0.0], [0.0, 0.0, 0.0, 0.0], [0.0, 0.0, 0.0, 0.0], [0.0, 0.0, 0.0, 0.0], [0.0, 0.0, 0.0, 0.0], [0.0, 0.0, 0.0, 0.0], [0.0, 0.0, 0.0, 0.0], [0.0, 0.0, 0.0, 0.0], [0.0, 0.0, 0.0, 0.0], [0.0, 0.0, 0.0, 0.0], [0.0, 0.0, 0.0, 0.0], [0.0, 0.0, 0.0, 0.0], [0.0, 0.0, 0.0, 0.0], [0.0, 0.0, 0.0, 0.0], [0.0, 0.0, 0.0, 0.0], [0.0, 0.0, 0.0, 0.0], [0.0, 0.0, 0.0, 0.0], [0.0, 0.0, 0.0, 0.0], [0.0, 0.0, 0.0, 0.0], [0.0, 0.0, 0.0, 0.0], [0.0, 0.0, 0.0, 0.0], [0.0, 0.0, 0.0, 0.0], [0.0, 0.0, 0.0, 0.0], [0.0, 0.0, 0.0, 0.0], [0.0, 0.0, 0.0, 0.0], [0.0, 0.0, 0.0, 0.0], [0.0, 0.0, 0.0, 0.0], [0.0, 0.0, 0.0, 0.0], [0.0, 0.0, 0.0, 0.0], [0.0, 0.0, 0.0, 0.0], [0.0, 0.0, 0.0, 0.0], [0.0, 0.0, 0.0, 0.0], [0.0, 0.0, 0.0, 0.0], [0.0, 0.0, 0.0, 0.0], [0.0, 0.0, 0.0, 0.0], [0.0, 0.0, 0.0, 0.0], [0.0, 0.0, 0.0, 0.0], [0.0, 0.0, 0.0, 0.0], [0.0, 0.0, 0.0, 0.0], [0.0, 0.0, 0.0, 0.0], [0.0, 0.0, 0.0, 0.0], [0.0, 0.0, 0.0, 0.0], [0.0, 0.0, 0.0, 0.0], [0.0, 0.0, 0.0, 0.0], [0.0, 0.0, 0.0, 0.0], [0.0, 0.0, 0.0, 0.1]])).",
     "output_type": "error",
     "traceback": [
      "Fixed keys in the `ModelGenerator` should not intersect with the extra keyword arguments in (Vₓ = GraphPPL.LazyNodeLabel{GraphPPL.NodeCreationOptions{@NamedTuple{kind::Symbol, factorized::Bool}}, Vector{Matrix{Float64}}}(GraphPPL.Model{MetaGraphsNext.MetaGraph{Int64, Graphs.SimpleGraphs.SimpleGraph{Int64}, GraphPPL.NodeLabel, GraphPPL.NodeData, GraphPPL.EdgeLabel, GraphPPL.Context, MetaGraphsNext.var\"#4#8\", Float64}, GraphPPL.PluginsCollection{Tuple{GraphPPL.VariationalConstraintsPlugin{GraphPPL.NoConstraints}, GraphPPL.MetaPlugin{GraphPPL.MetaSpecification}, RxInfer.InitializationPlugin{RxInfer.NoInit}, RxInfer.ReactiveMPInferencePlugin{RxInfer.ReactiveMPInferenceOptions{Nothing, Nothing}}}}, RxInfer.ReactiveMPGraphPPLBackend}(Meta graph based on a Graphs.SimpleGraphs.SimpleGraph{Int64} with vertex labels of type GraphPPL.NodeLabel, vertex metadata of type GraphPPL.NodeData, edge metadata of type GraphPPL.EdgeLabel, graph metadata given by GraphPPL.Context(0, dronenav_model, \"\", nothing, {}, {}, {}, {}, {}, {}, {}, Base.RefValue{Any}(#undef)), and default weight 1.0, GraphPPL.PluginsCollection{Tuple{GraphPPL.VariationalConstraintsPlugin{GraphPPL.NoConstraints}, GraphPPL.MetaPlugin{GraphPPL.MetaSpecification}, RxInfer.InitializationPlugin{RxInfer.NoInit}, RxInfer.ReactiveMPInferencePlugin{RxInfer.ReactiveMPInferenceOptions{Nothing, Nothing}}}}((GraphPPL.VariationalConstraintsPlugin{GraphPPL.NoConstraints}(GraphPPL.NoConstraints()), GraphPPL.MetaPlugin{GraphPPL.MetaSpecification}(Meta: \n), RxInfer.InitializationPlugin{RxInfer.NoInit}(RxInfer.NoInit()), RxInfer.ReactiveMPInferencePlugin{RxInfer.ReactiveMPInferenceOptions{Nothing, Nothing}}(RxInfer.ReactiveMPInferenceOptions{Nothing, Nothing}(nothing, nothing, true)))), RxInfer.ReactiveMPGraphPPLBackend(), Base.RefValue{Int64}(0)), GraphPPL.Context(0, dronenav_model, \"\", nothing, {}, {}, {}, {}, {}, {}, {}, Base.RefValue{Any}(#undef)), GraphPPL.NodeCreationOptions{@NamedTuple{kind::Symbol, factorized::Bool}}((kind = :data, factorized = true)), :Vₓ, [[1.0e-12 0.0 0.0 0.0; 0.0 1.0e-12 0.0 0.0; 0.0 0.0 1.0e-12 0.0; 0.0 0.0 0.0 1.0e-12], [1.0e12 0.0 0.0 0.0; 0.0 1.0e12 0.0 0.0; 0.0 0.0 1.0e12 0.0; 0.0 0.0 0.0 1.0e12], [1.0e12 0.0 0.0 0.0; 0.0 1.0e12 0.0 0.0; 0.0 0.0 1.0e12 0.0; 0.0 0.0 0.0 1.0e12], [1.0e12 0.0 0.0 0.0; 0.0 1.0e12 0.0 0.0; 0.0 0.0 1.0e12 0.0; 0.0 0.0 0.0 1.0e12], [1.0e12 0.0 0.0 0.0; 0.0 1.0e12 0.0 0.0; 0.0 0.0 1.0e12 0.0; 0.0 0.0 0.0 1.0e12], [1.0e12 0.0 0.0 0.0; 0.0 1.0e12 0.0 0.0; 0.0 0.0 1.0e12 0.0; 0.0 0.0 0.0 1.0e12], [1.0e12 0.0 0.0 0.0; 0.0 1.0e12 0.0 0.0; 0.0 0.0 1.0e12 0.0; 0.0 0.0 0.0 1.0e12], [1.0e12 0.0 0.0 0.0; 0.0 1.0e12 0.0 0.0; 0.0 0.0 1.0e12 0.0; 0.0 0.0 0.0 1.0e12], [1.0e12 0.0 0.0 0.0; 0.0 1.0e12 0.0 0.0; 0.0 0.0 1.0e12 0.0; 0.0 0.0 0.0 1.0e12], [1.0e12 0.0 0.0 0.0; 0.0 1.0e12 0.0 0.0; 0.0 0.0 1.0e12 0.0; 0.0 0.0 0.0 1.0e12], [1.0e12 0.0 0.0 0.0; 0.0 1.0e12 0.0 0.0; 0.0 0.0 1.0e12 0.0; 0.0 0.0 0.0 1.0e12], [1.0e12 0.0 0.0 0.0; 0.0 1.0e12 0.0 0.0; 0.0 0.0 1.0e12 0.0; 0.0 0.0 0.0 1.0e12], [1.0e12 0.0 0.0 0.0; 0.0 1.0e12 0.0 0.0; 0.0 0.0 1.0e12 0.0; 0.0 0.0 0.0 1.0e12], [1.0e12 0.0 0.0 0.0; 0.0 1.0e12 0.0 0.0; 0.0 0.0 1.0e12 0.0; 0.0 0.0 0.0 1.0e12], [1.0e12 0.0 0.0 0.0; 0.0 1.0e12 0.0 0.0; 0.0 0.0 1.0e12 0.0; 0.0 0.0 0.0 1.0e12], [1.0e12 0.0 0.0 0.0; 0.0 1.0e12 0.0 0.0; 0.0 0.0 1.0e12 0.0; 0.0 0.0 0.0 1.0e12], [1.0e12 0.0 0.0 0.0; 0.0 1.0e12 0.0 0.0; 0.0 0.0 1.0e12 0.0; 0.0 0.0 0.0 1.0e12], [1.0e12 0.0 0.0 0.0; 0.0 1.0e12 0.0 0.0; 0.0 0.0 1.0e12 0.0; 0.0 0.0 0.0 1.0e12], [1.0e12 0.0 0.0 0.0; 0.0 1.0e12 0.0 0.0; 0.0 0.0 1.0e12 0.0; 0.0 0.0 0.0 1.0e12], [1.0e12 0.0 0.0 0.0; 0.0 1.0e12 0.0 0.0; 0.0 0.0 1.0e12 0.0; 0.0 0.0 0.0 1.0e12], [1.0e12 0.0 0.0 0.0; 0.0 1.0e12 0.0 0.0; 0.0 0.0 1.0e12 0.0; 0.0 0.0 0.0 1.0e12], [1.0e12 0.0 0.0 0.0; 0.0 1.0e12 0.0 0.0; 0.0 0.0 1.0e12 0.0; 0.0 0.0 0.0 1.0e12], [1.0e12 0.0 0.0 0.0; 0.0 1.0e12 0.0 0.0; 0.0 0.0 1.0e12 0.0; 0.0 0.0 0.0 1.0e12], [1.0e12 0.0 0.0 0.0; 0.0 1.0e12 0.0 0.0; 0.0 0.0 1.0e12 0.0; 0.0 0.0 0.0 1.0e12], [1.0e12 0.0 0.0 0.0; 0.0 1.0e12 0.0 0.0; 0.0 0.0 1.0e12 0.0; 0.0 0.0 0.0 1.0e12], [1.0e12 0.0 0.0 0.0; 0.0 1.0e12 0.0 0.0; 0.0 0.0 1.0e12 0.0; 0.0 0.0 0.0 1.0e12], [1.0e12 0.0 0.0 0.0; 0.0 1.0e12 0.0 0.0; 0.0 0.0 1.0e12 0.0; 0.0 0.0 0.0 1.0e12], [1.0e12 0.0 0.0 0.0; 0.0 1.0e12 0.0 0.0; 0.0 0.0 1.0e12 0.0; 0.0 0.0 0.0 1.0e12], [1.0e12 0.0 0.0 0.0; 0.0 1.0e12 0.0 0.0; 0.0 0.0 1.0e12 0.0; 0.0 0.0 0.0 1.0e12], [1.0e12 0.0 0.0 0.0; 0.0 1.0e12 0.0 0.0; 0.0 0.0 1.0e12 0.0; 0.0 0.0 0.0 1.0e12], [1.0e12 0.0 0.0 0.0; 0.0 1.0e12 0.0 0.0; 0.0 0.0 1.0e12 0.0; 0.0 0.0 0.0 1.0e12], [1.0e12 0.0 0.0 0.0; 0.0 1.0e12 0.0 0.0; 0.0 0.0 1.0e12 0.0; 0.0 0.0 0.0 1.0e12], [1.0e12 0.0 0.0 0.0; 0.0 1.0e12 0.0 0.0; 0.0 0.0 1.0e12 0.0; 0.0 0.0 0.0 1.0e12], [1.0e12 0.0 0.0 0.0; 0.0 1.0e12 0.0 0.0; 0.0 0.0 1.0e12 0.0; 0.0 0.0 0.0 1.0e12], [1.0e12 0.0 0.0 0.0; 0.0 1.0e12 0.0 0.0; 0.0 0.0 1.0e12 0.0; 0.0 0.0 0.0 1.0e12], [1.0e12 0.0 0.0 0.0; 0.0 1.0e12 0.0 0.0; 0.0 0.0 1.0e12 0.0; 0.0 0.0 0.0 1.0e12], [1.0e12 0.0 0.0 0.0; 0.0 1.0e12 0.0 0.0; 0.0 0.0 1.0e12 0.0; 0.0 0.0 0.0 1.0e12], [1.0e12 0.0 0.0 0.0; 0.0 1.0e12 0.0 0.0; 0.0 0.0 1.0e12 0.0; 0.0 0.0 0.0 1.0e12], [1.0e12 0.0 0.0 0.0; 0.0 1.0e12 0.0 0.0; 0.0 0.0 1.0e12 0.0; 0.0 0.0 0.0 1.0e12], [1.0e12 0.0 0.0 0.0; 0.0 1.0e12 0.0 0.0; 0.0 0.0 1.0e12 0.0; 0.0 0.0 0.0 1.0e12], [1.0e12 0.0 0.0 0.0; 0.0 1.0e12 0.0 0.0; 0.0 0.0 1.0e12 0.0; 0.0 0.0 0.0 1.0e12], [1.0e12 0.0 0.0 0.0; 0.0 1.0e12 0.0 0.0; 0.0 0.0 1.0e12 0.0; 0.0 0.0 0.0 1.0e12], [1.0e12 0.0 0.0 0.0; 0.0 1.0e12 0.0 0.0; 0.0 0.0 1.0e12 0.0; 0.0 0.0 0.0 1.0e12], [1.0e12 0.0 0.0 0.0; 0.0 1.0e12 0.0 0.0; 0.0 0.0 1.0e12 0.0; 0.0 0.0 0.0 1.0e12], [1.0e12 0.0 0.0 0.0; 0.0 1.0e12 0.0 0.0; 0.0 0.0 1.0e12 0.0; 0.0 0.0 0.0 1.0e12], [1.0e12 0.0 0.0 0.0; 0.0 1.0e12 0.0 0.0; 0.0 0.0 1.0e12 0.0; 0.0 0.0 0.0 1.0e12], [1.0e12 0.0 0.0 0.0; 0.0 1.0e12 0.0 0.0; 0.0 0.0 1.0e12 0.0; 0.0 0.0 0.0 1.0e12], [1.0e12 0.0 0.0 0.0; 0.0 1.0e12 0.0 0.0; 0.0 0.0 1.0e12 0.0; 0.0 0.0 0.0 1.0e12], [1.0e12 0.0 0.0 0.0; 0.0 1.0e12 0.0 0.0; 0.0 0.0 1.0e12 0.0; 0.0 0.0 0.0 1.0e12], [1.0e12 0.0 0.0 0.0; 0.0 1.0e12 0.0 0.0; 0.0 0.0 1.0e12 0.0; 0.0 0.0 0.0 1.0e12], [1.0e12 0.0 0.0 0.0; 0.0 1.0e12 0.0 0.0; 0.0 0.0 1.0e12 0.0; 0.0 0.0 0.0 1.0e12], [1.0e12 0.0 0.0 0.0; 0.0 1.0e12 0.0 0.0; 0.0 0.0 1.0e12 0.0; 0.0 0.0 0.0 1.0e12], [1.0e12 0.0 0.0 0.0; 0.0 1.0e12 0.0 0.0; 0.0 0.0 1.0e12 0.0; 0.0 0.0 0.0 1.0e12], [1.0e12 0.0 0.0 0.0; 0.0 1.0e12 0.0 0.0; 0.0 0.0 1.0e12 0.0; 0.0 0.0 0.0 1.0e12], [1.0e12 0.0 0.0 0.0; 0.0 1.0e12 0.0 0.0; 0.0 0.0 1.0e12 0.0; 0.0 0.0 0.0 1.0e12], [1.0e12 0.0 0.0 0.0; 0.0 1.0e12 0.0 0.0; 0.0 0.0 1.0e12 0.0; 0.0 0.0 0.0 1.0e12], [1.0e12 0.0 0.0 0.0; 0.0 1.0e12 0.0 0.0; 0.0 0.0 1.0e12 0.0; 0.0 0.0 0.0 1.0e12], [1.0e12 0.0 0.0 0.0; 0.0 1.0e12 0.0 0.0; 0.0 0.0 1.0e12 0.0; 0.0 0.0 0.0 1.0e12], [1.0e12 0.0 0.0 0.0; 0.0 1.0e12 0.0 0.0; 0.0 0.0 1.0e12 0.0; 0.0 0.0 0.0 1.0e12], [1.0e12 0.0 0.0 0.0; 0.0 1.0e12 0.0 0.0; 0.0 0.0 1.0e12 0.0; 0.0 0.0 0.0 1.0e12], [1.0e12 0.0 0.0 0.0; 0.0 1.0e12 0.0 0.0; 0.0 0.0 1.0e12 0.0; 0.0 0.0 0.0 1.0e12], [1.0e12 0.0 0.0 0.0; 0.0 1.0e12 0.0 0.0; 0.0 0.0 1.0e12 0.0; 0.0 0.0 0.0 1.0e12], [1.0e12 0.0 0.0 0.0; 0.0 1.0e12 0.0 0.0; 0.0 0.0 1.0e12 0.0; 0.0 0.0 0.0 1.0e12], [1.0e12 0.0 0.0 0.0; 0.0 1.0e12 0.0 0.0; 0.0 0.0 1.0e12 0.0; 0.0 0.0 0.0 1.0e12], [1.0e12 0.0 0.0 0.0; 0.0 1.0e12 0.0 0.0; 0.0 0.0 1.0e12 0.0; 0.0 0.0 0.0 1.0e12], [1.0e12 0.0 0.0 0.0; 0.0 1.0e12 0.0 0.0; 0.0 0.0 1.0e12 0.0; 0.0 0.0 0.0 1.0e12], [1.0e12 0.0 0.0 0.0; 0.0 1.0e12 0.0 0.0; 0.0 0.0 1.0e12 0.0; 0.0 0.0 0.0 1.0e12], [1.0e12 0.0 0.0 0.0; 0.0 1.0e12 0.0 0.0; 0.0 0.0 1.0e12 0.0; 0.0 0.0 0.0 1.0e12], [1.0e12 0.0 0.0 0.0; 0.0 1.0e12 0.0 0.0; 0.0 0.0 1.0e12 0.0; 0.0 0.0 0.0 1.0e12], [1.0e12 0.0 0.0 0.0; 0.0 1.0e12 0.0 0.0; 0.0 0.0 1.0e12 0.0; 0.0 0.0 0.0 1.0e12], [1.0e12 0.0 0.0 0.0; 0.0 1.0e12 0.0 0.0; 0.0 0.0 1.0e12 0.0; 0.0 0.0 0.0 1.0e12], [1.0e12 0.0 0.0 0.0; 0.0 1.0e12 0.0 0.0; 0.0 0.0 1.0e12 0.0; 0.0 0.0 0.0 1.0e12], [1.0e12 0.0 0.0 0.0; 0.0 1.0e12 0.0 0.0; 0.0 0.0 1.0e12 0.0; 0.0 0.0 0.0 1.0e12], [1.0e12 0.0 0.0 0.0; 0.0 1.0e12 0.0 0.0; 0.0 0.0 1.0e12 0.0; 0.0 0.0 0.0 1.0e12], [1.0e12 0.0 0.0 0.0; 0.0 1.0e12 0.0 0.0; 0.0 0.0 1.0e12 0.0; 0.0 0.0 0.0 1.0e12], [1.0e12 0.0 0.0 0.0; 0.0 1.0e12 0.0 0.0; 0.0 0.0 1.0e12 0.0; 0.0 0.0 0.0 1.0e12], [1.0e12 0.0 0.0 0.0; 0.0 1.0e12 0.0 0.0; 0.0 0.0 1.0e12 0.0; 0.0 0.0 0.0 1.0e12], [1.0e12 0.0 0.0 0.0; 0.0 1.0e12 0.0 0.0; 0.0 0.0 1.0e12 0.0; 0.0 0.0 0.0 1.0e12], [1.0e12 0.0 0.0 0.0; 0.0 1.0e12 0.0 0.0; 0.0 0.0 1.0e12 0.0; 0.0 0.0 0.0 1.0e12], [1.0e12 0.0 0.0 0.0; 0.0 1.0e12 0.0 0.0; 0.0 0.0 1.0e12 0.0; 0.0 0.0 0.0 1.0e12], [1.0e12 0.0 0.0 0.0; 0.0 1.0e12 0.0 0.0; 0.0 0.0 1.0e12 0.0; 0.0 0.0 0.0 1.0e12], [1.0e12 0.0 0.0 0.0; 0.0 1.0e12 0.0 0.0; 0.0 0.0 1.0e12 0.0; 0.0 0.0 0.0 1.0e12], [1.0e12 0.0 0.0 0.0; 0.0 1.0e12 0.0 0.0; 0.0 0.0 1.0e12 0.0; 0.0 0.0 0.0 1.0e12], [1.0e12 0.0 0.0 0.0; 0.0 1.0e12 0.0 0.0; 0.0 0.0 1.0e12 0.0; 0.0 0.0 0.0 1.0e12], [1.0e12 0.0 0.0 0.0; 0.0 1.0e12 0.0 0.0; 0.0 0.0 1.0e12 0.0; 0.0 0.0 0.0 1.0e12], [1.0e12 0.0 0.0 0.0; 0.0 1.0e12 0.0 0.0; 0.0 0.0 1.0e12 0.0; 0.0 0.0 0.0 1.0e12], [1.0e12 0.0 0.0 0.0; 0.0 1.0e12 0.0 0.0; 0.0 0.0 1.0e12 0.0; 0.0 0.0 0.0 1.0e12], [1.0e12 0.0 0.0 0.0; 0.0 1.0e12 0.0 0.0; 0.0 0.0 1.0e12 0.0; 0.0 0.0 0.0 1.0e12], [1.0e12 0.0 0.0 0.0; 0.0 1.0e12 0.0 0.0; 0.0 0.0 1.0e12 0.0; 0.0 0.0 0.0 1.0e12], [1.0e12 0.0 0.0 0.0; 0.0 1.0e12 0.0 0.0; 0.0 0.0 1.0e12 0.0; 0.0 0.0 0.0 1.0e12], [1.0e12 0.0 0.0 0.0; 0.0 1.0e12 0.0 0.0; 0.0 0.0 1.0e12 0.0; 0.0 0.0 0.0 1.0e12], [1.0e12 0.0 0.0 0.0; 0.0 1.0e12 0.0 0.0; 0.0 0.0 1.0e12 0.0; 0.0 0.0 0.0 1.0e12], [1.0e12 0.0 0.0 0.0; 0.0 1.0e12 0.0 0.0; 0.0 0.0 1.0e12 0.0; 0.0 0.0 0.0 1.0e12], [1.0e12 0.0 0.0 0.0; 0.0 1.0e12 0.0 0.0; 0.0 0.0 1.0e12 0.0; 0.0 0.0 0.0 1.0e12], [1.0e12 0.0 0.0 0.0; 0.0 1.0e12 0.0 0.0; 0.0 0.0 1.0e12 0.0; 0.0 0.0 0.0 1.0e12], [1.0e12 0.0 0.0 0.0; 0.0 1.0e12 0.0 0.0; 0.0 0.0 1.0e12 0.0; 0.0 0.0 0.0 1.0e12], [1.0e12 0.0 0.0 0.0; 0.0 1.0e12 0.0 0.0; 0.0 0.0 1.0e12 0.0; 0.0 0.0 0.0 1.0e12], [1.0e12 0.0 0.0 0.0; 0.0 1.0e12 0.0 0.0; 0.0 0.0 1.0e12 0.0; 0.0 0.0 0.0 1.0e12], [1.0e12 0.0 0.0 0.0; 0.0 1.0e12 0.0 0.0; 0.0 0.0 1.0e12 0.0; 0.0 0.0 0.0 1.0e12], [1.0e-6 0.0 0.0 0.0; 0.0 1.0e-6 0.0 0.0; 0.0 0.0 10000.0 0.0; 0.0 0.0 0.0 10000.0]]), Vₛ₍ₜ₋₁₎ = GraphPPL.LazyNodeLabel{GraphPPL.NodeCreationOptions{@NamedTuple{kind::Symbol, factorized::Bool}}, Matrix{Float64}}(GraphPPL.Model{MetaGraphsNext.MetaGraph{Int64, Graphs.SimpleGraphs.SimpleGraph{Int64}, GraphPPL.NodeLabel, GraphPPL.NodeData, GraphPPL.EdgeLabel, GraphPPL.Context, MetaGraphsNext.var\"#4#8\", Float64}, GraphPPL.PluginsCollection{Tuple{GraphPPL.VariationalConstraintsPlugin{GraphPPL.NoConstraints}, GraphPPL.MetaPlugin{GraphPPL.MetaSpecification}, RxInfer.InitializationPlugin{RxInfer.NoInit}, RxInfer.ReactiveMPInferencePlugin{RxInfer.ReactiveMPInferenceOptions{Nothing, Nothing}}}}, RxInfer.ReactiveMPGraphPPLBackend}(Meta graph based on a Graphs.SimpleGraphs.SimpleGraph{Int64} with vertex labels of type GraphPPL.NodeLabel, vertex metadata of type GraphPPL.NodeData, edge metadata of type GraphPPL.EdgeLabel, graph metadata given by GraphPPL.Context(0, dronenav_model, \"\", nothing, {}, {}, {}, {}, {}, {}, {}, Base.RefValue{Any}(#undef)), and default weight 1.0, GraphPPL.PluginsCollection{Tuple{GraphPPL.VariationalConstraintsPlugin{GraphPPL.NoConstraints}, GraphPPL.MetaPlugin{GraphPPL.MetaSpecification}, RxInfer.InitializationPlugin{RxInfer.NoInit}, RxInfer.ReactiveMPInferencePlugin{RxInfer.ReactiveMPInferenceOptions{Nothing, Nothing}}}}((GraphPPL.VariationalConstraintsPlugin{GraphPPL.NoConstraints}(GraphPPL.NoConstraints()), GraphPPL.MetaPlugin{GraphPPL.MetaSpecification}(Meta: \n), RxInfer.InitializationPlugin{RxInfer.NoInit}(RxInfer.NoInit()), RxInfer.ReactiveMPInferencePlugin{RxInfer.ReactiveMPInferenceOptions{Nothing, Nothing}}(RxInfer.ReactiveMPInferenceOptions{Nothing, Nothing}(nothing, nothing, true)))), RxInfer.ReactiveMPGraphPPLBackend(), Base.RefValue{Int64}(0)), GraphPPL.Context(0, dronenav_model, \"\", nothing, {}, {}, {}, {}, {}, {}, {}, Base.RefValue{Any}(#undef)), GraphPPL.NodeCreationOptions{@NamedTuple{kind::Symbol, factorized::Bool}}((kind = :data, factorized = true)), :Vₛ₍ₜ₋₁₎, [1.0e-12 0.0 0.0 0.0; 0.0 1.0e-12 0.0 0.0; 0.0 0.0 1.0e-12 0.0; 0.0 0.0 0.0 1.0e-12]), Vᵤ = GraphPPL.LazyNodeLabel{GraphPPL.NodeCreationOptions{@NamedTuple{kind::Symbol, factorized::Bool}}, Vector{Matrix{Float64}}}(GraphPPL.Model{MetaGraphsNext.MetaGraph{Int64, Graphs.SimpleGraphs.SimpleGraph{Int64}, GraphPPL.NodeLabel, GraphPPL.NodeData, GraphPPL.EdgeLabel, GraphPPL.Context, MetaGraphsNext.var\"#4#8\", Float64}, GraphPPL.PluginsCollection{Tuple{GraphPPL.VariationalConstraintsPlugin{GraphPPL.NoConstraints}, GraphPPL.MetaPlugin{GraphPPL.MetaSpecification}, RxInfer.InitializationPlugin{RxInfer.NoInit}, RxInfer.ReactiveMPInferencePlugin{RxInfer.ReactiveMPInferenceOptions{Nothing, Nothing}}}}, RxInfer.ReactiveMPGraphPPLBackend}(Meta graph based on a Graphs.SimpleGraphs.SimpleGraph{Int64} with vertex labels of type GraphPPL.NodeLabel, vertex metadata of type GraphPPL.NodeData, edge metadata of type GraphPPL.EdgeLabel, graph metadata given by GraphPPL.Context(0, dronenav_model, \"\", nothing, {}, {}, {}, {}, {}, {}, {}, Base.RefValue{Any}(#undef)), and default weight 1.0, GraphPPL.PluginsCollection{Tuple{GraphPPL.VariationalConstraintsPlugin{GraphPPL.NoConstraints}, GraphPPL.MetaPlugin{GraphPPL.MetaSpecification}, RxInfer.InitializationPlugin{RxInfer.NoInit}, RxInfer.ReactiveMPInferencePlugin{RxInfer.ReactiveMPInferenceOptions{Nothing, Nothing}}}}((GraphPPL.VariationalConstraintsPlugin{GraphPPL.NoConstraints}(GraphPPL.NoConstraints()), GraphPPL.MetaPlugin{GraphPPL.MetaSpecification}(Meta: \n), RxInfer.InitializationPlugin{RxInfer.NoInit}(RxInfer.NoInit()), RxInfer.ReactiveMPInferencePlugin{RxInfer.ReactiveMPInferenceOptions{Nothing, Nothing}}(RxInfer.ReactiveMPInferenceOptions{Nothing, Nothing}(nothing, nothing, true)))), RxInfer.ReactiveMPGraphPPLBackend(), Base.RefValue{Int64}(0)), GraphPPL.Context(0, dronenav_model, \"\", nothing, {}, {}, {}, {}, {}, {}, {}, Base.RefValue{Any}(#undef)), GraphPPL.NodeCreationOptions{@NamedTuple{kind::Symbol, factorized::Bool}}((kind = :data, factorized = true)), :Vᵤ, [[1.0e-12;;], [1.0;;], [1.0;;], [1.0;;], [1.0;;], [1.0;;], [1.0;;], [1.0;;], [1.0;;], [1.0;;], [1.0;;], [1.0;;], [1.0;;], [1.0;;], [1.0;;], [1.0;;], [1.0;;], [1.0;;], [1.0;;], [1.0;;], [1.0;;], [1.0;;], [1.0;;], [1.0;;], [1.0;;], [1.0;;], [1.0;;], [1.0;;], [1.0;;], [1.0;;], [1.0;;], [1.0;;], [1.0;;], [1.0;;], [1.0;;], [1.0;;], [1.0;;], [1.0;;], [1.0;;], [1.0;;], [1.0;;], [1.0;;], [1.0;;], [1.0;;], [1.0;;], [1.0;;], [1.0;;], [1.0;;], [1.0;;], [1.0;;], [1.0;;], [1.0;;], [1.0;;], [1.0;;], [1.0;;], [1.0;;], [1.0;;], [1.0;;], [1.0;;], [1.0;;], [1.0;;], [1.0;;], [1.0;;], [1.0;;], [1.0;;], [1.0;;], [1.0;;], [1.0;;], [1.0;;], [1.0;;], [1.0;;], [1.0;;], [1.0;;], [1.0;;], [1.0;;], [1.0;;], [1.0;;], [1.0;;], [1.0;;], [1.0;;], [1.0;;], [1.0;;], [1.0;;], [1.0;;], [1.0;;], [1.0;;], [1.0;;], [1.0;;], [1.0;;], [1.0;;], [1.0;;], [1.0;;], [1.0;;], [1.0;;], [1.0;;], [1.0;;], [1.0;;], [1.0;;], [1.0;;], [1.0;;]]), mᵤ = GraphPPL.LazyNodeLabel{GraphPPL.NodeCreationOptions{@NamedTuple{kind::Symbol, factorized::Bool}}, Vector{Vector{Float64}}}(GraphPPL.Model{MetaGraphsNext.MetaGraph{Int64, Graphs.SimpleGraphs.SimpleGraph{Int64}, GraphPPL.NodeLabel, GraphPPL.NodeData, GraphPPL.EdgeLabel, GraphPPL.Context, MetaGraphsNext.var\"#4#8\", Float64}, GraphPPL.PluginsCollection{Tuple{GraphPPL.VariationalConstraintsPlugin{GraphPPL.NoConstraints}, GraphPPL.MetaPlugin{GraphPPL.MetaSpecification}, RxInfer.InitializationPlugin{RxInfer.NoInit}, RxInfer.ReactiveMPInferencePlugin{RxInfer.ReactiveMPInferenceOptions{Nothing, Nothing}}}}, RxInfer.ReactiveMPGraphPPLBackend}(Meta graph based on a Graphs.SimpleGraphs.SimpleGraph{Int64} with vertex labels of type GraphPPL.NodeLabel, vertex metadata of type GraphPPL.NodeData, edge metadata of type GraphPPL.EdgeLabel, graph metadata given by GraphPPL.Context(0, dronenav_model, \"\", nothing, {}, {}, {}, {}, {}, {}, {}, Base.RefValue{Any}(#undef)), and default weight 1.0, GraphPPL.PluginsCollection{Tuple{GraphPPL.VariationalConstraintsPlugin{GraphPPL.NoConstraints}, GraphPPL.MetaPlugin{GraphPPL.MetaSpecification}, RxInfer.InitializationPlugin{RxInfer.NoInit}, RxInfer.ReactiveMPInferencePlugin{RxInfer.ReactiveMPInferenceOptions{Nothing, Nothing}}}}((GraphPPL.VariationalConstraintsPlugin{GraphPPL.NoConstraints}(GraphPPL.NoConstraints()), GraphPPL.MetaPlugin{GraphPPL.MetaSpecification}(Meta: \n), RxInfer.InitializationPlugin{RxInfer.NoInit}(RxInfer.NoInit()), RxInfer.ReactiveMPInferencePlugin{RxInfer.ReactiveMPInferenceOptions{Nothing, Nothing}}(RxInfer.ReactiveMPInferenceOptions{Nothing, Nothing}(nothing, nothing, true)))), RxInfer.ReactiveMPGraphPPLBackend(), Base.RefValue{Int64}(0)), GraphPPL.Context(0, dronenav_model, \"\", nothing, {}, {}, {}, {}, {}, {}, {}, Base.RefValue{Any}(#undef)), GraphPPL.NodeCreationOptions{@NamedTuple{kind::Symbol, factorized::Bool}}((kind = :data, factorized = true)), :mᵤ, [[0.0], [0.0], [0.0], [0.0], [0.0], [0.0], [0.0], [0.0], [0.0], [0.0], [0.0], [0.0], [0.0], [0.0], [0.0], [0.0], [0.0], [0.0], [0.0], [0.0], [0.0], [0.0], [0.0], [0.0], [0.0], [0.0], [0.0], [0.0], [0.0], [0.0], [0.0], [0.0], [0.0], [0.0], [0.0], [0.0], [0.0], [0.0], [0.0], [0.0], [0.0], [0.0], [0.0], [0.0], [0.0], [0.0], [0.0], [0.0], [0.0], [0.0], [0.0], [0.0], [0.0], [0.0], [0.0], [0.0], [0.0], [0.0], [0.0], [0.0], [0.0], [0.0], [0.0], [0.0], [0.0], [0.0], [0.0], [0.0], [0.0], [0.0], [0.0], [0.0], [0.0], [0.0], [0.0], [0.0], [0.0], [0.0], [0.0], [0.0], [0.0], [0.0], [0.0], [0.0], [0.0], [0.0], [0.0], [0.0], [0.0], [0.0], [0.0], [0.0], [0.0], [0.0], [0.0], [0.0], [0.0], [0.0], [0.0], [0.0]]), mₛ₍ₜ₋₁₎ = GraphPPL.LazyNodeLabel{GraphPPL.NodeCreationOptions{@NamedTuple{kind::Symbol, factorized::Bool}}, Vector{Float64}}(GraphPPL.Model{MetaGraphsNext.MetaGraph{Int64, Graphs.SimpleGraphs.SimpleGraph{Int64}, GraphPPL.NodeLabel, GraphPPL.NodeData, GraphPPL.EdgeLabel, GraphPPL.Context, MetaGraphsNext.var\"#4#8\", Float64}, GraphPPL.PluginsCollection{Tuple{GraphPPL.VariationalConstraintsPlugin{GraphPPL.NoConstraints}, GraphPPL.MetaPlugin{GraphPPL.MetaSpecification}, RxInfer.InitializationPlugin{RxInfer.NoInit}, RxInfer.ReactiveMPInferencePlugin{RxInfer.ReactiveMPInferenceOptions{Nothing, Nothing}}}}, RxInfer.ReactiveMPGraphPPLBackend}(Meta graph based on a Graphs.SimpleGraphs.SimpleGraph{Int64} with vertex labels of type GraphPPL.NodeLabel, vertex metadata of type GraphPPL.NodeData, edge metadata of type GraphPPL.EdgeLabel, graph metadata given by GraphPPL.Context(0, dronenav_model, \"\", nothing, {}, {}, {}, {}, {}, {}, {}, Base.RefValue{Any}(#undef)), and default weight 1.0, GraphPPL.PluginsCollection{Tuple{GraphPPL.VariationalConstraintsPlugin{GraphPPL.NoConstraints}, GraphPPL.MetaPlugin{GraphPPL.MetaSpecification}, RxInfer.InitializationPlugin{RxInfer.NoInit}, RxInfer.ReactiveMPInferencePlugin{RxInfer.ReactiveMPInferenceOptions{Nothing, Nothing}}}}((GraphPPL.VariationalConstraintsPlugin{GraphPPL.NoConstraints}(GraphPPL.NoConstraints()), GraphPPL.MetaPlugin{GraphPPL.MetaSpecification}(Meta: \n), RxInfer.InitializationPlugin{RxInfer.NoInit}(RxInfer.NoInit()), RxInfer.ReactiveMPInferencePlugin{RxInfer.ReactiveMPInferenceOptions{Nothing, Nothing}}(RxInfer.ReactiveMPInferenceOptions{Nothing, Nothing}(nothing, nothing, true)))), RxInfer.ReactiveMPGraphPPLBackend(), Base.RefValue{Int64}(0)), GraphPPL.Context(0, dronenav_model, \"\", nothing, {}, {}, {}, {}, {}, {}, {}, Base.RefValue{Any}(#undef)), GraphPPL.NodeCreationOptions{@NamedTuple{kind::Symbol, factorized::Bool}}((kind = :data, factorized = true)), :mₛ₍ₜ₋₁₎, [8.0, 8.0, -0.1, 0.1]), mₓ = GraphPPL.LazyNodeLabel{GraphPPL.NodeCreationOptions{@NamedTuple{kind::Symbol, factorized::Bool}}, Vector{Vector{Float64}}}(GraphPPL.Model{MetaGraphsNext.MetaGraph{Int64, Graphs.SimpleGraphs.SimpleGraph{Int64}, GraphPPL.NodeLabel, GraphPPL.NodeData, GraphPPL.EdgeLabel, GraphPPL.Context, MetaGraphsNext.var\"#4#8\", Float64}, GraphPPL.PluginsCollection{Tuple{GraphPPL.VariationalConstraintsPlugin{GraphPPL.NoConstraints}, GraphPPL.MetaPlugin{GraphPPL.MetaSpecification}, RxInfer.InitializationPlugin{RxInfer.NoInit}, RxInfer.ReactiveMPInferencePlugin{RxInfer.ReactiveMPInferenceOptions{Nothing, Nothing}}}}, RxInfer.ReactiveMPGraphPPLBackend}(Meta graph based on a Graphs.SimpleGraphs.SimpleGraph{Int64} with vertex labels of type GraphPPL.NodeLabel, vertex metadata of type GraphPPL.NodeData, edge metadata of type GraphPPL.EdgeLabel, graph metadata given by GraphPPL.Context(0, dronenav_model, \"\", nothing, {}, {}, {}, {}, {}, {}, {}, Base.RefValue{Any}(#undef)), and default weight 1.0, GraphPPL.PluginsCollection{Tuple{GraphPPL.VariationalConstraintsPlugin{GraphPPL.NoConstraints}, GraphPPL.MetaPlugin{GraphPPL.MetaSpecification}, RxInfer.InitializationPlugin{RxInfer.NoInit}, RxInfer.ReactiveMPInferencePlugin{RxInfer.ReactiveMPInferenceOptions{Nothing, Nothing}}}}((GraphPPL.VariationalConstraintsPlugin{GraphPPL.NoConstraints}(GraphPPL.NoConstraints()), GraphPPL.MetaPlugin{GraphPPL.MetaSpecification}(Meta: \n), RxInfer.InitializationPlugin{RxInfer.NoInit}(RxInfer.NoInit()), RxInfer.ReactiveMPInferencePlugin{RxInfer.ReactiveMPInferenceOptions{Nothing, Nothing}}(RxInfer.ReactiveMPInferenceOptions{Nothing, Nothing}(nothing, nothing, true)))), RxInfer.ReactiveMPGraphPPLBackend(), Base.RefValue{Int64}(0)), GraphPPL.Context(0, dronenav_model, \"\", nothing, {}, {}, {}, {}, {}, {}, {}, Base.RefValue{Any}(#undef)), GraphPPL.NodeCreationOptions{@NamedTuple{kind::Symbol, factorized::Bool}}((kind = :data, factorized = true)), :mₓ, [[8.099500416527803, 7.990016658335318, -0.1, 0.1], [0.0, 0.0, 0.0, 0.0], [0.0, 0.0, 0.0, 0.0], [0.0, 0.0, 0.0, 0.0], [0.0, 0.0, 0.0, 0.0], [0.0, 0.0, 0.0, 0.0], [0.0, 0.0, 0.0, 0.0], [0.0, 0.0, 0.0, 0.0], [0.0, 0.0, 0.0, 0.0], [0.0, 0.0, 0.0, 0.0], [0.0, 0.0, 0.0, 0.0], [0.0, 0.0, 0.0, 0.0], [0.0, 0.0, 0.0, 0.0], [0.0, 0.0, 0.0, 0.0], [0.0, 0.0, 0.0, 0.0], [0.0, 0.0, 0.0, 0.0], [0.0, 0.0, 0.0, 0.0], [0.0, 0.0, 0.0, 0.0], [0.0, 0.0, 0.0, 0.0], [0.0, 0.0, 0.0, 0.0], [0.0, 0.0, 0.0, 0.0], [0.0, 0.0, 0.0, 0.0], [0.0, 0.0, 0.0, 0.0], [0.0, 0.0, 0.0, 0.0], [0.0, 0.0, 0.0, 0.0], [0.0, 0.0, 0.0, 0.0], [0.0, 0.0, 0.0, 0.0], [0.0, 0.0, 0.0, 0.0], [0.0, 0.0, 0.0, 0.0], [0.0, 0.0, 0.0, 0.0], [0.0, 0.0, 0.0, 0.0], [0.0, 0.0, 0.0, 0.0], [0.0, 0.0, 0.0, 0.0], [0.0, 0.0, 0.0, 0.0], [0.0, 0.0, 0.0, 0.0], [0.0, 0.0, 0.0, 0.0], [0.0, 0.0, 0.0, 0.0], [0.0, 0.0, 0.0, 0.0], [0.0, 0.0, 0.0, 0.0], [0.0, 0.0, 0.0, 0.0], [0.0, 0.0, 0.0, 0.0], [0.0, 0.0, 0.0, 0.0], [0.0, 0.0, 0.0, 0.0], [0.0, 0.0, 0.0, 0.0], [0.0, 0.0, 0.0, 0.0], [0.0, 0.0, 0.0, 0.0], [0.0, 0.0, 0.0, 0.0], [0.0, 0.0, 0.0, 0.0], [0.0, 0.0, 0.0, 0.0], [0.0, 0.0, 0.0, 0.0], [0.0, 0.0, 0.0, 0.0], [0.0, 0.0, 0.0, 0.0], [0.0, 0.0, 0.0, 0.0], [0.0, 0.0, 0.0, 0.0], [0.0, 0.0, 0.0, 0.0], [0.0, 0.0, 0.0, 0.0], [0.0, 0.0, 0.0, 0.0], [0.0, 0.0, 0.0, 0.0], [0.0, 0.0, 0.0, 0.0], [0.0, 0.0, 0.0, 0.0], [0.0, 0.0, 0.0, 0.0], [0.0, 0.0, 0.0, 0.0], [0.0, 0.0, 0.0, 0.0], [0.0, 0.0, 0.0, 0.0], [0.0, 0.0, 0.0, 0.0], [0.0, 0.0, 0.0, 0.0], [0.0, 0.0, 0.0, 0.0], [0.0, 0.0, 0.0, 0.0], [0.0, 0.0, 0.0, 0.0], [0.0, 0.0, 0.0, 0.0], [0.0, 0.0, 0.0, 0.0], [0.0, 0.0, 0.0, 0.0], [0.0, 0.0, 0.0, 0.0], [0.0, 0.0, 0.0, 0.0], [0.0, 0.0, 0.0, 0.0], [0.0, 0.0, 0.0, 0.0], [0.0, 0.0, 0.0, 0.0], [0.0, 0.0, 0.0, 0.0], [0.0, 0.0, 0.0, 0.0], [0.0, 0.0, 0.0, 0.0], [0.0, 0.0, 0.0, 0.0], [0.0, 0.0, 0.0, 0.0], [0.0, 0.0, 0.0, 0.0], [0.0, 0.0, 0.0, 0.0], [0.0, 0.0, 0.0, 0.0], [0.0, 0.0, 0.0, 0.0], [0.0, 0.0, 0.0, 0.0], [0.0, 0.0, 0.0, 0.0], [0.0, 0.0, 0.0, 0.0], [0.0, 0.0, 0.0, 0.0], [0.0, 0.0, 0.0, 0.0], [0.0, 0.0, 0.0, 0.0], [0.0, 0.0, 0.0, 0.0], [0.0, 0.0, 0.0, 0.0], [0.0, 0.0, 0.0, 0.0], [0.0, 0.0, 0.0, 0.0], [0.0, 0.0, 0.0, 0.0], [0.0, 0.0, 0.0, 0.0], [0.0, 0.0, 0.0, 0.0], [0.0, 0.0, 0.0, 0.1]])).",
      "",
      "Stacktrace:",
      " [1] error(s::String)",
      "   @ Base ./error.jl:35",
      " [2] create_model(callback::RxInfer.var\"#24#26\"{@NamedTuple{Vₓ::Vector{Matrix{Float64}}, Vₛ₍ₜ₋₁₎::Matrix{Float64}, Vᵤ::Vector{Matrix{Float64}}, mᵤ::Vector{Vector{Float64}}, mₛ₍ₜ₋₁₎::Vector{Float64}, mₓ::Vector{Vector{Float64}}}}, generator::GraphPPL.ModelGenerator{typeof(dronenav_model), @Kwargs{T::Int64, Rᵃ::typeof(Rᵃ), mₛ₍ₜ₋₁₎::Vector{Float64}, Vₛ₍ₜ₋₁₎::Matrix{Float64}, mᵤ::Vector{Vector{Float64}}, Vᵤ::Vector{Matrix{Float64}}, mₓ::Vector{Vector{Float64}}, Vₓ::Vector{Matrix{Float64}}}, GraphPPL.PluginsCollection{Tuple{GraphPPL.VariationalConstraintsPlugin{GraphPPL.NoConstraints}, GraphPPL.MetaPlugin{GraphPPL.MetaSpecification}, RxInfer.InitializationPlugin{RxInfer.NoInit}, RxInfer.ReactiveMPInferencePlugin{RxInfer.ReactiveMPInferenceOptions{Nothing, Nothing}}}}, RxInfer.ReactiveMPGraphPPLBackend})",
      "   @ GraphPPL ~/.julia/packages/GraphPPL/BYCRJ/src/model_generator.jl:90",
      " [3] __infer_create_factor_graph_model(generator::GraphPPL.ModelGenerator{typeof(dronenav_model), @Kwargs{T::Int64, Rᵃ::typeof(Rᵃ), mₛ₍ₜ₋₁₎::Vector{Float64}, Vₛ₍ₜ₋₁₎::Matrix{Float64}, mᵤ::Vector{Vector{Float64}}, Vᵤ::Vector{Matrix{Float64}}, mₓ::Vector{Vector{Float64}}, Vₓ::Vector{Matrix{Float64}}}, GraphPPL.PluginsCollection{Tuple{GraphPPL.VariationalConstraintsPlugin{GraphPPL.NoConstraints}, GraphPPL.MetaPlugin{GraphPPL.MetaSpecification}, RxInfer.InitializationPlugin{RxInfer.NoInit}, RxInfer.ReactiveMPInferencePlugin{RxInfer.ReactiveMPInferenceOptions{Nothing, Nothing}}}}, RxInfer.ReactiveMPGraphPPLBackend}, conditioned_on::Dict{Symbol, Array})",
      "   @ RxInfer ~/.julia/packages/RxInfer/1p1hH/src/model/model.jl:119",
      " [4] create_model(generator::RxInfer.ConditionedModelGenerator{GraphPPL.ModelGenerator{typeof(dronenav_model), @Kwargs{T::Int64, Rᵃ::typeof(Rᵃ), mₛ₍ₜ₋₁₎::Vector{Float64}, Vₛ₍ₜ₋₁₎::Matrix{Float64}, mᵤ::Vector{Vector{Float64}}, Vᵤ::Vector{Matrix{Float64}}, mₓ::Vector{Vector{Float64}}, Vₓ::Vector{Matrix{Float64}}}, GraphPPL.PluginsCollection{Tuple{GraphPPL.VariationalConstraintsPlugin{GraphPPL.NoConstraints}, GraphPPL.MetaPlugin{GraphPPL.MetaSpecification}, RxInfer.InitializationPlugin{RxInfer.NoInit}, RxInfer.ReactiveMPInferencePlugin{RxInfer.ReactiveMPInferenceOptions{Nothing, Nothing}}}}, RxInfer.ReactiveMPGraphPPLBackend}, Dict{Symbol, Array}})",
      "   @ RxInfer ~/.julia/packages/RxInfer/1p1hH/src/model/model.jl:107",
      " [5] batch_inference(; model::GraphPPL.ModelGenerator{typeof(dronenav_model), @Kwargs{T::Int64, Rᵃ::typeof(Rᵃ), mₛ₍ₜ₋₁₎::Vector{Float64}, Vₛ₍ₜ₋₁₎::Matrix{Float64}, mᵤ::Vector{Vector{Float64}}, Vᵤ::Vector{Matrix{Float64}}, mₓ::Vector{Vector{Float64}}, Vₓ::Vector{Matrix{Float64}}}, GraphPPL.PluginsCollection{Tuple{}}, RxInfer.ReactiveMPGraphPPLBackend}, data::Dict{Symbol, Array}, initialization::Nothing, constraints::Nothing, meta::Nothing, options::Nothing, returnvars::Nothing, predictvars::Nothing, iterations::Nothing, free_energy::Bool, free_energy_diagnostics::Tuple{RxInfer.ObjectiveDiagnosticCheckNaNs, RxInfer.ObjectiveDiagnosticCheckInfs}, showprogress::Bool, callbacks::Nothing, addons::Nothing, postprocess::DefaultPostprocess, warn::Bool, catch_exception::Bool)",
      "   @ RxInfer ~/.julia/packages/RxInfer/1p1hH/src/inference/batch.jl:199",
      " [6] batch_inference",
      "   @ ~/.julia/packages/RxInfer/1p1hH/src/inference/batch.jl:94 [inlined]",
      " [7] #infer#230",
      "   @ ~/.julia/packages/RxInfer/1p1hH/src/inference/inference.jl:306 [inlined]",
      " [8] (::var\"#124#130\"{Int64, typeof(Rᵃ)})(υₜ::Float64, ŷₜ::Vector{Float64})",
      "   @ Main ./In[38]:34",
      " [9] top-level scope",
      "   @ ./In[40]:32"
     ]
    }
   ],
   "source": [
    "(execute_ai, observe_ai) = create_envir(; ## Let there be a world\n",
    "    Rᵃ=Rᵃ,\n",
    "    z₀=_s₀\n",
    ")\n",
    "\n",
    "(act_ai, future_ai,   compute_ai, slide_ai) = create_agent(; ## Let there be an agent\n",
    "    T =_Tᵃⁱ,\n",
    "    Rᵃ=Rᵃ,\n",
    "    x₊=_x₊,\n",
    "    s₀=_s₀,\n",
    "    ξ = _ξ,\n",
    "    σ = _σ\n",
    ") \n",
    "\n",
    "## Step through the experimental protocol\n",
    "_agent_a = Vector{Float64}(undef, _Nᵃⁱ)         ## Actions\n",
    "_agent_f = Vector{Vector{Float64}}(undef, _Nᵃⁱ) ## Predicted future\n",
    "_agent_x = Vector{Vector{Float64}}(undef, _Nᵃⁱ) ## Observations\n",
    "\n",
    "for t = 1:_Nᵃⁱ    \n",
    "    \n",
    "    ## 1. Act-Execute-Observe: #.execute() & observe() from create_envir()\n",
    "    \n",
    "    _agent_a[t] = act_ai()     ## Invoke an action from the agent\n",
    "    _agent_f[t] = future_ai()  ## Fetch the predicted future states\n",
    "    execute_ai(_agent_a[t]) ## The action influences hidden external states\n",
    "    _agent_x[t] = observe_ai() ## Observe the current environmental outcome (update p)\n",
    "    \n",
    "    ## 2. Infer:\n",
    "    \n",
    "    # infer_ai(agent_a[t], agent_x[t]) # Infer beliefs from current model state (update q)\n",
    "    compute_ai(_agent_a[t], _agent_x[t]) ## Infer beliefs from current model state (update q)\n",
    "    \n",
    "    ## 3. Slide:\n",
    "    \n",
    "    slide_ai() ## Prepare for next iteration\n",
    "end"
   ]
  },
  {
   "cell_type": "code",
   "execution_count": 37,
   "id": "08bfd2ac",
   "metadata": {},
   "outputs": [
    {
     "ename": "LoadError",
     "evalue": "UndefRefError: access to undefined reference",
     "output_type": "error",
     "traceback": [
      "UndefRefError: access to undefined reference",
      "",
      "Stacktrace:",
      " [1] getindex(A::Vector{Vector{Float64}}, i1::Int64)",
      "   @ Base ./essentials.jl:13",
      " [2] macro expansion",
      "   @ ./In[37]:7 [inlined]",
      " [3] top-level scope",
      "   @ ~/.julia/packages/Plots/ju9dp/src/animation.jl:251"
     ]
    }
   ],
   "source": [
    "_animation_ai = @animate for i in 1:_Nᵃⁱ\n",
    "    pls = scatter(\n",
    "        [_x₊[1]], [_x₊[2]], \n",
    "        xlims=(0, 1.5*_s₀[1]), \n",
    "        ylims=(0, 1.5*_s₀[2]), \n",
    "        label=\"Target\", markersize=10)\n",
    "    pls = scatter!(\n",
    "        pls, [_agent_x[i][1]], [_agent_x[i][2]], \n",
    "        xlims=(0, 1.5*_s₀[1]), \n",
    "        ylims=(0, 1.5*_s₀[2]), \n",
    "        label=\"Drone\", markersize=6)\n",
    "    pls = plot!(pls,  \n",
    "        [_agent_x[i][1], _agent_x[i][1] + 10*_agent_x[i][4]*cos(_agent_x[i][3])],\n",
    "        [_agent_x[i][2], _agent_x[i][2] + 10*_agent_x[i][4]*sin(_agent_x[i][3])],\n",
    "        arrow=true, color=:black, label=\"Velocity\", \n",
    "        title=\"Move to Target/Goal\", legend=:topleft, \n",
    "        ## xlabel=\"miles\", ylabel=\"miles\",\n",
    "        aspect_ratio=:equal)\n",
    "    plot!(pls, size=(600, 600))\n",
    "end\n",
    "gif(_animation_ai, \"./shipnav-aif.gif\", fps=24, show_msg=false)"
   ]
  },
  {
   "cell_type": "markdown",
   "id": "75c51a2b",
   "metadata": {},
   "source": [
    "#### Create_environment\n"
   ]
  },
  {
   "cell_type": "code",
   "execution_count": null,
   "id": "a5b5774a",
   "metadata": {},
   "outputs": [],
   "source": []
  }
 ],
 "metadata": {
  "kernelspec": {
   "display_name": "Julia 1.10.2",
   "language": "julia",
   "name": "julia-1.10"
  },
  "language_info": {
   "file_extension": ".jl",
   "mimetype": "application/julia",
   "name": "julia",
   "version": "1.10.2"
  }
 },
 "nbformat": 4,
 "nbformat_minor": 5
}
